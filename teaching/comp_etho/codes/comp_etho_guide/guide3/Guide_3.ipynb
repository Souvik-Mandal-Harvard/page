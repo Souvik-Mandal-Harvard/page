{
 "cells": [
  {
   "cell_type": "markdown",
   "metadata": {
    "id": "Bex1UhmH-iyS"
   },
   "source": [
    "<center><h1><font color='red'> Guide 3 |  Body Pose </font></h1></center>\n",
    "\n",
    "In this project, you will learn the structure of the DeepLabCut output data and preprocessing tools to analyze them across samples. \n",
    "\n",
    "## Objective\n",
    "* Understand the structure of DeepLabCut/SLEAP Body Point data\n",
    "* Visualize the body points\n",
    "* Learn how to translate and rotate body points"
   ]
  },
  {
   "cell_type": "markdown",
   "metadata": {
    "id": "_n0UXQwe-iyU"
   },
   "source": [
    "## Table of Contents:\n",
    "0. DeepLabCut/SLEAP h5 data\n",
    "1. Visualize\n",
    "2. Preprocess\n",
    "3. Final"
   ]
  },
  {
   "cell_type": "code",
   "execution_count": 1,
   "metadata": {
    "colab": {
     "base_uri": "https://localhost:8080/",
     "height": 17
    },
    "id": "VrmEX6C3-iyU",
    "outputId": "b919ead9-71d3-4376-cb51-b7319871e090"
   },
   "outputs": [
    {
     "data": {
      "text/html": [
       "\n",
       "<style>\n",
       ".output_png {\n",
       "    display: table-cell;\n",
       "    text-align: center;\n",
       "    vertical-align: middle;\n",
       "}\n",
       "</style>\n"
      ],
      "text/plain": [
       "<IPython.core.display.HTML object>"
      ]
     },
     "execution_count": 1,
     "metadata": {},
     "output_type": "execute_result"
    }
   ],
   "source": [
    "from IPython.core.display import HTML\n",
    "HTML(\"\"\"\n",
    "<style>\n",
    ".output_png {\n",
    "    display: table-cell;\n",
    "    text-align: center;\n",
    "    vertical-align: middle;\n",
    "}\n",
    "</style>\n",
    "\"\"\")"
   ]
  },
  {
   "cell_type": "markdown",
   "metadata": {
    "id": "MyyZxnJP-iyV"
   },
   "source": [
    "## 0. DeepLabCut/SLEAP h5 data\n",
    "\n",
    "Here we will use the ```glob``` module to traverse the directories. \n",
    "\n",
    "TLDR: [Glob](https://docs.python.org/3/library/glob.html)\n",
    "\n",
    "\"**\" => recursively get all folders\n",
    "\n",
    "\"*\" => recursively get all files\n",
    "\n",
    "ex: ```\"data/**\"``` => recursively get all the folders in the data folder\n",
    "\n",
    "ex: ```\"data/**/*.npy\"``` => recursively get all the files (with the filetype .npy) that is in one of the subdirectories of data\n",
    "\n"
   ]
  },
  {
   "cell_type": "code",
   "execution_count": null,
   "metadata": {
    "id": "fX8Rwvzs-iyW"
   },
   "outputs": [],
   "source": [
    "import numpy as np\n",
    "import matplotlib\n",
    "import matplotlib.pyplot as plt\n",
    "from glob import glob "
   ]
  },
  {
   "cell_type": "code",
   "execution_count": null,
   "metadata": {
    "colab": {
     "base_uri": "https://localhost:8080/"
    },
    "id": "YwbOfJIu-iyW",
    "outputId": "5a90926b-0cfb-4e97-da9e-352860e40304"
   },
   "outputs": [
    {
     "name": "stdout",
     "output_type": "stream",
     "text": [
      "/content/gdrive/My Drive/First year/LS100/guide3/data/maj_20181005_dP_food1_3509-4284/maj_20181005_dP_food1_3509-4284DeepCut_resnet50_small_arenaJun18shuffle1_1030000.h5\n",
      "/content/gdrive/My Drive/First year/LS100/guide3/data/maj_20181005_dP_food1_2867-3220/maj_20181005_dP_food1_2867-3220DeepCut_resnet50_small_arenaJun18shuffle1_1030000.h5\n"
     ]
    }
   ],
   "source": [
    "# path for all the subdirectories under data in a format that glob understands\n",
    "data_path = \"data/**\"\n",
    "\n",
    "# path for all .h5 files in data_path (which is all subdirectories under data)\n",
    "h5_path = f\"{data_path}/*.h5\"\n",
    "\n",
    "# print the path of all .h5 files in subdirectories of data\n",
    "for path in glob(h5_path):\n",
    "    print(path)"
   ]
  },
  {
   "cell_type": "markdown",
   "metadata": {
    "id": "nlC8HGYZ-iyW"
   },
   "source": [
    "HDF5 files are organized in a hierarchical structure, with two primary structures: groups and datasets.\n",
    "\n",
    "* HDF5 group: a grouping structure containing instances of zero or more groups or datasets, together with supporting metadata.\n",
    "* HDF5 dataset: a multidimensional array of data elements, together with supporting metadata.\n",
    "\n",
    "Working with groups and group members is similar in many ways to working with directories and files in UNIX. As with UNIX directories and files, objects in an HDF5 file are often described by giving their full (or absolute) path names.\n",
    "\n",
    "* / signifies the root group.\n",
    "* /foo signifies a member of the root group called foo.\n",
    "* /foo/zoo signifies a member of the group foo, which in turn is a member of the root group.\n",
    "\n",
    "Learn more [here](https://support.hdfgroup.org/HDF5/doc/H5.intro.html)\n",
    "\n",
    "To read .h5 files, we will use pandas. We can use the ```pd.HDFStore``` function to read the h5 file and open \"store\" session to read or write files. Once you open one \"store\" you have to close the store at the end so that you can open other \"store\". Think of h5 files like an actual store. When you go into the store and look for things, everything is in \"groups\" (e.g. breakfast aisle, cereal aisle...). Similarly, h5 files have groups. Once you go into a specific group, you will see rows of what you are looking for. This is your \"dataset\". The dataset will either be in the format of 2D matrix or 1D array."
   ]
  },
  {
   "cell_type": "code",
   "execution_count": null,
   "metadata": {
    "id": "p2WTTiVE-iyX"
   },
   "outputs": [],
   "source": [
    "import pandas as pd"
   ]
  },
  {
   "cell_type": "code",
   "execution_count": null,
   "metadata": {
    "colab": {
     "base_uri": "https://localhost:8080/"
    },
    "id": "m7sEWTcC-iyX",
    "outputId": "97545db2-5e25-4afc-b9a1-ce87b05755f3",
    "scrolled": false
   },
   "outputs": [
    {
     "name": "stdout",
     "output_type": "stream",
     "text": [
      "<class 'pandas.io.pytables.HDFStore'>\n",
      "File path: /content/gdrive/My Drive/First year/LS100/guide3/data/maj_20181005_dP_food1_3509-4284/maj_20181005_dP_food1_3509-4284DeepCut_resnet50_small_arenaJun18shuffle1_1030000.h5\n",
      "\n"
     ]
    }
   ],
   "source": [
    "# create path for glob\n",
    "data_path = \"data/**\"\n",
    "h5_path = f\"{data_path}/*.h5\"\n",
    "\n",
    "for path in glob(h5_path):\n",
    "    store = pd.HDFStore(path) # STORE\n",
    "    print(store)\n",
    "    df = store['df_with_missing'] # GROUP: df_with_missing; df is your dataset\n",
    "    store.close()\n",
    "    break"
   ]
  },
  {
   "cell_type": "code",
   "execution_count": null,
   "metadata": {
    "colab": {
     "base_uri": "https://localhost:8080/",
     "height": 501
    },
    "id": "HuM7pJIF-iyY",
    "outputId": "a74daa98-23cf-426f-d2a7-488b36fc04fa"
   },
   "outputs": [
    {
     "data": {
      "text/html": [
       "<div>\n",
       "<style scoped>\n",
       "    .dataframe tbody tr th:only-of-type {\n",
       "        vertical-align: middle;\n",
       "    }\n",
       "\n",
       "    .dataframe tbody tr th {\n",
       "        vertical-align: top;\n",
       "    }\n",
       "\n",
       "    .dataframe thead tr th {\n",
       "        text-align: left;\n",
       "    }\n",
       "</style>\n",
       "<table border=\"1\" class=\"dataframe\">\n",
       "  <thead>\n",
       "    <tr>\n",
       "      <th>scorer</th>\n",
       "      <th colspan=\"81\" halign=\"left\">DeepCut_resnet50_small_arenaJun18shuffle1_1030000</th>\n",
       "    </tr>\n",
       "    <tr>\n",
       "      <th>bodyparts</th>\n",
       "      <th colspan=\"3\" halign=\"left\">bp1</th>\n",
       "      <th colspan=\"3\" halign=\"left\">bp2</th>\n",
       "      <th colspan=\"3\" halign=\"left\">bp3</th>\n",
       "      <th colspan=\"3\" halign=\"left\">bp4</th>\n",
       "      <th colspan=\"3\" halign=\"left\">bp5</th>\n",
       "      <th colspan=\"3\" halign=\"left\">bp6</th>\n",
       "      <th colspan=\"3\" halign=\"left\">bp7</th>\n",
       "      <th colspan=\"3\" halign=\"left\">bp8</th>\n",
       "      <th colspan=\"3\" halign=\"left\">bp9</th>\n",
       "      <th colspan=\"3\" halign=\"left\">bp10</th>\n",
       "      <th colspan=\"3\" halign=\"left\">bp11</th>\n",
       "      <th colspan=\"3\" halign=\"left\">bp12</th>\n",
       "      <th colspan=\"3\" halign=\"left\">bp13</th>\n",
       "      <th>bp14</th>\n",
       "      <th>...</th>\n",
       "      <th>bp17</th>\n",
       "      <th colspan=\"3\" halign=\"left\">bp18</th>\n",
       "      <th colspan=\"3\" halign=\"left\">bp19</th>\n",
       "      <th colspan=\"3\" halign=\"left\">bp20</th>\n",
       "      <th colspan=\"3\" halign=\"left\">bp21</th>\n",
       "      <th colspan=\"3\" halign=\"left\">bp22</th>\n",
       "      <th colspan=\"3\" halign=\"left\">bp23</th>\n",
       "      <th colspan=\"3\" halign=\"left\">bp24</th>\n",
       "      <th colspan=\"3\" halign=\"left\">bp25</th>\n",
       "      <th colspan=\"3\" halign=\"left\">bp26</th>\n",
       "      <th colspan=\"3\" halign=\"left\">bp27</th>\n",
       "      <th colspan=\"3\" halign=\"left\">bp28</th>\n",
       "      <th colspan=\"3\" halign=\"left\">bp29</th>\n",
       "      <th colspan=\"3\" halign=\"left\">bp30</th>\n",
       "    </tr>\n",
       "    <tr>\n",
       "      <th>coords</th>\n",
       "      <th>x</th>\n",
       "      <th>y</th>\n",
       "      <th>likelihood</th>\n",
       "      <th>x</th>\n",
       "      <th>y</th>\n",
       "      <th>likelihood</th>\n",
       "      <th>x</th>\n",
       "      <th>y</th>\n",
       "      <th>likelihood</th>\n",
       "      <th>x</th>\n",
       "      <th>y</th>\n",
       "      <th>likelihood</th>\n",
       "      <th>x</th>\n",
       "      <th>y</th>\n",
       "      <th>likelihood</th>\n",
       "      <th>x</th>\n",
       "      <th>y</th>\n",
       "      <th>likelihood</th>\n",
       "      <th>x</th>\n",
       "      <th>y</th>\n",
       "      <th>likelihood</th>\n",
       "      <th>x</th>\n",
       "      <th>y</th>\n",
       "      <th>likelihood</th>\n",
       "      <th>x</th>\n",
       "      <th>y</th>\n",
       "      <th>likelihood</th>\n",
       "      <th>x</th>\n",
       "      <th>y</th>\n",
       "      <th>likelihood</th>\n",
       "      <th>x</th>\n",
       "      <th>y</th>\n",
       "      <th>likelihood</th>\n",
       "      <th>x</th>\n",
       "      <th>y</th>\n",
       "      <th>likelihood</th>\n",
       "      <th>x</th>\n",
       "      <th>y</th>\n",
       "      <th>likelihood</th>\n",
       "      <th>x</th>\n",
       "      <th>...</th>\n",
       "      <th>likelihood</th>\n",
       "      <th>x</th>\n",
       "      <th>y</th>\n",
       "      <th>likelihood</th>\n",
       "      <th>x</th>\n",
       "      <th>y</th>\n",
       "      <th>likelihood</th>\n",
       "      <th>x</th>\n",
       "      <th>y</th>\n",
       "      <th>likelihood</th>\n",
       "      <th>x</th>\n",
       "      <th>y</th>\n",
       "      <th>likelihood</th>\n",
       "      <th>x</th>\n",
       "      <th>y</th>\n",
       "      <th>likelihood</th>\n",
       "      <th>x</th>\n",
       "      <th>y</th>\n",
       "      <th>likelihood</th>\n",
       "      <th>x</th>\n",
       "      <th>y</th>\n",
       "      <th>likelihood</th>\n",
       "      <th>x</th>\n",
       "      <th>y</th>\n",
       "      <th>likelihood</th>\n",
       "      <th>x</th>\n",
       "      <th>y</th>\n",
       "      <th>likelihood</th>\n",
       "      <th>x</th>\n",
       "      <th>y</th>\n",
       "      <th>likelihood</th>\n",
       "      <th>x</th>\n",
       "      <th>y</th>\n",
       "      <th>likelihood</th>\n",
       "      <th>x</th>\n",
       "      <th>y</th>\n",
       "      <th>likelihood</th>\n",
       "      <th>x</th>\n",
       "      <th>y</th>\n",
       "      <th>likelihood</th>\n",
       "    </tr>\n",
       "  </thead>\n",
       "  <tbody>\n",
       "    <tr>\n",
       "      <th>0</th>\n",
       "      <td>201.578793</td>\n",
       "      <td>137.301484</td>\n",
       "      <td>1.0</td>\n",
       "      <td>203.309672</td>\n",
       "      <td>169.922321</td>\n",
       "      <td>1.0</td>\n",
       "      <td>200.520725</td>\n",
       "      <td>197.603159</td>\n",
       "      <td>1.0</td>\n",
       "      <td>201.124055</td>\n",
       "      <td>238.290018</td>\n",
       "      <td>1.0</td>\n",
       "      <td>110.407962</td>\n",
       "      <td>97.215796</td>\n",
       "      <td>1.0</td>\n",
       "      <td>120.067093</td>\n",
       "      <td>97.555827</td>\n",
       "      <td>1.0</td>\n",
       "      <td>159.420541</td>\n",
       "      <td>115.840912</td>\n",
       "      <td>1.0</td>\n",
       "      <td>187.907755</td>\n",
       "      <td>124.330004</td>\n",
       "      <td>1.0</td>\n",
       "      <td>150.294658</td>\n",
       "      <td>132.193424</td>\n",
       "      <td>1.0</td>\n",
       "      <td>179.142448</td>\n",
       "      <td>164.543255</td>\n",
       "      <td>1.0</td>\n",
       "      <td>191.290900</td>\n",
       "      <td>183.067493</td>\n",
       "      <td>1.0</td>\n",
       "      <td>139.875354</td>\n",
       "      <td>176.830180</td>\n",
       "      <td>1.0</td>\n",
       "      <td>165.543163</td>\n",
       "      <td>186.729400</td>\n",
       "      <td>1.0</td>\n",
       "      <td>191.069954</td>\n",
       "      <td>...</td>\n",
       "      <td>1.0</td>\n",
       "      <td>278.711816</td>\n",
       "      <td>71.478088</td>\n",
       "      <td>1.0</td>\n",
       "      <td>269.878713</td>\n",
       "      <td>74.383298</td>\n",
       "      <td>1.0</td>\n",
       "      <td>236.589511</td>\n",
       "      <td>102.880817</td>\n",
       "      <td>1.0</td>\n",
       "      <td>209.771610</td>\n",
       "      <td>122.076007</td>\n",
       "      <td>1.0</td>\n",
       "      <td>264.140867</td>\n",
       "      <td>154.370190</td>\n",
       "      <td>1.000000</td>\n",
       "      <td>229.681378</td>\n",
       "      <td>165.728654</td>\n",
       "      <td>1.0</td>\n",
       "      <td>210.519198</td>\n",
       "      <td>182.399837</td>\n",
       "      <td>1.0</td>\n",
       "      <td>259.327016</td>\n",
       "      <td>195.817725</td>\n",
       "      <td>1.0</td>\n",
       "      <td>228.088084</td>\n",
       "      <td>190.331953</td>\n",
       "      <td>1.0</td>\n",
       "      <td>210.143326</td>\n",
       "      <td>193.609107</td>\n",
       "      <td>1.0</td>\n",
       "      <td>253.697142</td>\n",
       "      <td>276.397319</td>\n",
       "      <td>1.0</td>\n",
       "      <td>234.650749</td>\n",
       "      <td>226.257286</td>\n",
       "      <td>1.0</td>\n",
       "      <td>206.216148</td>\n",
       "      <td>205.602330</td>\n",
       "      <td>1.0</td>\n",
       "    </tr>\n",
       "    <tr>\n",
       "      <th>1</th>\n",
       "      <td>200.033580</td>\n",
       "      <td>137.374479</td>\n",
       "      <td>1.0</td>\n",
       "      <td>202.887481</td>\n",
       "      <td>170.351937</td>\n",
       "      <td>1.0</td>\n",
       "      <td>200.322278</td>\n",
       "      <td>198.542096</td>\n",
       "      <td>1.0</td>\n",
       "      <td>202.420679</td>\n",
       "      <td>238.666381</td>\n",
       "      <td>1.0</td>\n",
       "      <td>122.118802</td>\n",
       "      <td>87.504199</td>\n",
       "      <td>1.0</td>\n",
       "      <td>131.200123</td>\n",
       "      <td>89.277236</td>\n",
       "      <td>1.0</td>\n",
       "      <td>160.652459</td>\n",
       "      <td>111.471085</td>\n",
       "      <td>1.0</td>\n",
       "      <td>188.006063</td>\n",
       "      <td>122.047900</td>\n",
       "      <td>1.0</td>\n",
       "      <td>140.065361</td>\n",
       "      <td>133.883705</td>\n",
       "      <td>1.0</td>\n",
       "      <td>177.758487</td>\n",
       "      <td>167.985079</td>\n",
       "      <td>1.0</td>\n",
       "      <td>191.854390</td>\n",
       "      <td>184.233654</td>\n",
       "      <td>1.0</td>\n",
       "      <td>140.050596</td>\n",
       "      <td>176.485766</td>\n",
       "      <td>1.0</td>\n",
       "      <td>165.889825</td>\n",
       "      <td>185.414641</td>\n",
       "      <td>1.0</td>\n",
       "      <td>190.966917</td>\n",
       "      <td>...</td>\n",
       "      <td>1.0</td>\n",
       "      <td>260.153709</td>\n",
       "      <td>65.969481</td>\n",
       "      <td>1.0</td>\n",
       "      <td>252.181930</td>\n",
       "      <td>69.386200</td>\n",
       "      <td>1.0</td>\n",
       "      <td>230.120539</td>\n",
       "      <td>101.808416</td>\n",
       "      <td>1.0</td>\n",
       "      <td>207.978757</td>\n",
       "      <td>120.428786</td>\n",
       "      <td>1.0</td>\n",
       "      <td>266.029514</td>\n",
       "      <td>154.404048</td>\n",
       "      <td>1.000000</td>\n",
       "      <td>228.768960</td>\n",
       "      <td>165.928658</td>\n",
       "      <td>1.0</td>\n",
       "      <td>210.290122</td>\n",
       "      <td>182.542912</td>\n",
       "      <td>1.0</td>\n",
       "      <td>262.681196</td>\n",
       "      <td>187.989504</td>\n",
       "      <td>1.0</td>\n",
       "      <td>226.714828</td>\n",
       "      <td>189.638337</td>\n",
       "      <td>1.0</td>\n",
       "      <td>210.891005</td>\n",
       "      <td>194.063985</td>\n",
       "      <td>1.0</td>\n",
       "      <td>257.459695</td>\n",
       "      <td>276.883015</td>\n",
       "      <td>1.0</td>\n",
       "      <td>236.562839</td>\n",
       "      <td>225.776719</td>\n",
       "      <td>1.0</td>\n",
       "      <td>208.219275</td>\n",
       "      <td>206.018595</td>\n",
       "      <td>1.0</td>\n",
       "    </tr>\n",
       "    <tr>\n",
       "      <th>2</th>\n",
       "      <td>196.297055</td>\n",
       "      <td>136.921125</td>\n",
       "      <td>1.0</td>\n",
       "      <td>200.556530</td>\n",
       "      <td>169.577630</td>\n",
       "      <td>1.0</td>\n",
       "      <td>200.373747</td>\n",
       "      <td>197.355079</td>\n",
       "      <td>1.0</td>\n",
       "      <td>202.939582</td>\n",
       "      <td>238.211281</td>\n",
       "      <td>1.0</td>\n",
       "      <td>128.337564</td>\n",
       "      <td>86.420114</td>\n",
       "      <td>1.0</td>\n",
       "      <td>135.433144</td>\n",
       "      <td>88.613462</td>\n",
       "      <td>1.0</td>\n",
       "      <td>157.363330</td>\n",
       "      <td>112.920572</td>\n",
       "      <td>1.0</td>\n",
       "      <td>184.404934</td>\n",
       "      <td>123.227251</td>\n",
       "      <td>1.0</td>\n",
       "      <td>142.355574</td>\n",
       "      <td>160.707117</td>\n",
       "      <td>1.0</td>\n",
       "      <td>173.298168</td>\n",
       "      <td>166.556123</td>\n",
       "      <td>1.0</td>\n",
       "      <td>191.270297</td>\n",
       "      <td>185.208848</td>\n",
       "      <td>1.0</td>\n",
       "      <td>142.883388</td>\n",
       "      <td>178.735309</td>\n",
       "      <td>1.0</td>\n",
       "      <td>165.631021</td>\n",
       "      <td>184.063137</td>\n",
       "      <td>1.0</td>\n",
       "      <td>190.112999</td>\n",
       "      <td>...</td>\n",
       "      <td>1.0</td>\n",
       "      <td>237.780741</td>\n",
       "      <td>57.869603</td>\n",
       "      <td>1.0</td>\n",
       "      <td>231.066418</td>\n",
       "      <td>62.184879</td>\n",
       "      <td>1.0</td>\n",
       "      <td>218.351542</td>\n",
       "      <td>97.202282</td>\n",
       "      <td>1.0</td>\n",
       "      <td>203.280763</td>\n",
       "      <td>120.709660</td>\n",
       "      <td>1.0</td>\n",
       "      <td>266.174413</td>\n",
       "      <td>154.327862</td>\n",
       "      <td>0.999994</td>\n",
       "      <td>226.172575</td>\n",
       "      <td>165.540229</td>\n",
       "      <td>1.0</td>\n",
       "      <td>208.032581</td>\n",
       "      <td>183.459229</td>\n",
       "      <td>1.0</td>\n",
       "      <td>249.798209</td>\n",
       "      <td>187.747368</td>\n",
       "      <td>1.0</td>\n",
       "      <td>230.306949</td>\n",
       "      <td>184.343796</td>\n",
       "      <td>1.0</td>\n",
       "      <td>210.093879</td>\n",
       "      <td>194.817926</td>\n",
       "      <td>1.0</td>\n",
       "      <td>258.019967</td>\n",
       "      <td>274.256066</td>\n",
       "      <td>1.0</td>\n",
       "      <td>237.910601</td>\n",
       "      <td>223.591597</td>\n",
       "      <td>1.0</td>\n",
       "      <td>206.207629</td>\n",
       "      <td>205.684113</td>\n",
       "      <td>1.0</td>\n",
       "    </tr>\n",
       "    <tr>\n",
       "      <th>3</th>\n",
       "      <td>192.885468</td>\n",
       "      <td>137.219925</td>\n",
       "      <td>1.0</td>\n",
       "      <td>199.448188</td>\n",
       "      <td>168.690381</td>\n",
       "      <td>1.0</td>\n",
       "      <td>200.277394</td>\n",
       "      <td>196.765029</td>\n",
       "      <td>1.0</td>\n",
       "      <td>204.822337</td>\n",
       "      <td>237.755685</td>\n",
       "      <td>1.0</td>\n",
       "      <td>101.187840</td>\n",
       "      <td>97.844006</td>\n",
       "      <td>1.0</td>\n",
       "      <td>110.883666</td>\n",
       "      <td>100.200044</td>\n",
       "      <td>1.0</td>\n",
       "      <td>148.575087</td>\n",
       "      <td>118.490364</td>\n",
       "      <td>1.0</td>\n",
       "      <td>178.440788</td>\n",
       "      <td>125.467626</td>\n",
       "      <td>1.0</td>\n",
       "      <td>138.191732</td>\n",
       "      <td>156.367846</td>\n",
       "      <td>1.0</td>\n",
       "      <td>173.658694</td>\n",
       "      <td>169.010131</td>\n",
       "      <td>1.0</td>\n",
       "      <td>191.240653</td>\n",
       "      <td>186.077616</td>\n",
       "      <td>1.0</td>\n",
       "      <td>136.093315</td>\n",
       "      <td>181.676716</td>\n",
       "      <td>1.0</td>\n",
       "      <td>168.357183</td>\n",
       "      <td>188.684082</td>\n",
       "      <td>1.0</td>\n",
       "      <td>190.712204</td>\n",
       "      <td>...</td>\n",
       "      <td>1.0</td>\n",
       "      <td>232.956338</td>\n",
       "      <td>47.757880</td>\n",
       "      <td>1.0</td>\n",
       "      <td>225.905775</td>\n",
       "      <td>53.758037</td>\n",
       "      <td>1.0</td>\n",
       "      <td>213.900285</td>\n",
       "      <td>93.219964</td>\n",
       "      <td>1.0</td>\n",
       "      <td>198.088023</td>\n",
       "      <td>120.204675</td>\n",
       "      <td>1.0</td>\n",
       "      <td>265.247740</td>\n",
       "      <td>155.756311</td>\n",
       "      <td>0.999990</td>\n",
       "      <td>226.012142</td>\n",
       "      <td>164.206098</td>\n",
       "      <td>1.0</td>\n",
       "      <td>208.193733</td>\n",
       "      <td>183.675565</td>\n",
       "      <td>1.0</td>\n",
       "      <td>252.387962</td>\n",
       "      <td>186.547514</td>\n",
       "      <td>1.0</td>\n",
       "      <td>229.651692</td>\n",
       "      <td>183.470458</td>\n",
       "      <td>1.0</td>\n",
       "      <td>211.178946</td>\n",
       "      <td>194.685042</td>\n",
       "      <td>1.0</td>\n",
       "      <td>263.459394</td>\n",
       "      <td>276.264124</td>\n",
       "      <td>1.0</td>\n",
       "      <td>240.141469</td>\n",
       "      <td>224.174308</td>\n",
       "      <td>1.0</td>\n",
       "      <td>207.783753</td>\n",
       "      <td>205.336495</td>\n",
       "      <td>1.0</td>\n",
       "    </tr>\n",
       "    <tr>\n",
       "      <th>4</th>\n",
       "      <td>188.046330</td>\n",
       "      <td>136.683458</td>\n",
       "      <td>1.0</td>\n",
       "      <td>196.753252</td>\n",
       "      <td>167.460421</td>\n",
       "      <td>1.0</td>\n",
       "      <td>199.612450</td>\n",
       "      <td>196.959228</td>\n",
       "      <td>1.0</td>\n",
       "      <td>207.098560</td>\n",
       "      <td>237.407480</td>\n",
       "      <td>1.0</td>\n",
       "      <td>97.750778</td>\n",
       "      <td>114.331426</td>\n",
       "      <td>1.0</td>\n",
       "      <td>107.225752</td>\n",
       "      <td>113.738357</td>\n",
       "      <td>1.0</td>\n",
       "      <td>145.019679</td>\n",
       "      <td>124.250017</td>\n",
       "      <td>1.0</td>\n",
       "      <td>171.166274</td>\n",
       "      <td>126.463613</td>\n",
       "      <td>1.0</td>\n",
       "      <td>148.072210</td>\n",
       "      <td>157.333472</td>\n",
       "      <td>1.0</td>\n",
       "      <td>173.338833</td>\n",
       "      <td>169.916993</td>\n",
       "      <td>1.0</td>\n",
       "      <td>190.334651</td>\n",
       "      <td>187.097633</td>\n",
       "      <td>1.0</td>\n",
       "      <td>116.443893</td>\n",
       "      <td>198.567015</td>\n",
       "      <td>1.0</td>\n",
       "      <td>174.545363</td>\n",
       "      <td>192.821174</td>\n",
       "      <td>1.0</td>\n",
       "      <td>190.643384</td>\n",
       "      <td>...</td>\n",
       "      <td>1.0</td>\n",
       "      <td>224.793266</td>\n",
       "      <td>42.237938</td>\n",
       "      <td>1.0</td>\n",
       "      <td>218.021093</td>\n",
       "      <td>49.215375</td>\n",
       "      <td>1.0</td>\n",
       "      <td>205.532184</td>\n",
       "      <td>91.094811</td>\n",
       "      <td>1.0</td>\n",
       "      <td>192.133432</td>\n",
       "      <td>119.790518</td>\n",
       "      <td>1.0</td>\n",
       "      <td>243.962404</td>\n",
       "      <td>127.803119</td>\n",
       "      <td>1.000000</td>\n",
       "      <td>216.496880</td>\n",
       "      <td>159.129101</td>\n",
       "      <td>1.0</td>\n",
       "      <td>207.698970</td>\n",
       "      <td>183.581581</td>\n",
       "      <td>1.0</td>\n",
       "      <td>260.324735</td>\n",
       "      <td>187.245792</td>\n",
       "      <td>1.0</td>\n",
       "      <td>232.141382</td>\n",
       "      <td>182.879873</td>\n",
       "      <td>1.0</td>\n",
       "      <td>210.976664</td>\n",
       "      <td>195.139884</td>\n",
       "      <td>1.0</td>\n",
       "      <td>269.735083</td>\n",
       "      <td>277.116101</td>\n",
       "      <td>1.0</td>\n",
       "      <td>242.782545</td>\n",
       "      <td>223.289902</td>\n",
       "      <td>1.0</td>\n",
       "      <td>208.882380</td>\n",
       "      <td>206.769474</td>\n",
       "      <td>1.0</td>\n",
       "    </tr>\n",
       "    <tr>\n",
       "      <th>...</th>\n",
       "      <td>...</td>\n",
       "      <td>...</td>\n",
       "      <td>...</td>\n",
       "      <td>...</td>\n",
       "      <td>...</td>\n",
       "      <td>...</td>\n",
       "      <td>...</td>\n",
       "      <td>...</td>\n",
       "      <td>...</td>\n",
       "      <td>...</td>\n",
       "      <td>...</td>\n",
       "      <td>...</td>\n",
       "      <td>...</td>\n",
       "      <td>...</td>\n",
       "      <td>...</td>\n",
       "      <td>...</td>\n",
       "      <td>...</td>\n",
       "      <td>...</td>\n",
       "      <td>...</td>\n",
       "      <td>...</td>\n",
       "      <td>...</td>\n",
       "      <td>...</td>\n",
       "      <td>...</td>\n",
       "      <td>...</td>\n",
       "      <td>...</td>\n",
       "      <td>...</td>\n",
       "      <td>...</td>\n",
       "      <td>...</td>\n",
       "      <td>...</td>\n",
       "      <td>...</td>\n",
       "      <td>...</td>\n",
       "      <td>...</td>\n",
       "      <td>...</td>\n",
       "      <td>...</td>\n",
       "      <td>...</td>\n",
       "      <td>...</td>\n",
       "      <td>...</td>\n",
       "      <td>...</td>\n",
       "      <td>...</td>\n",
       "      <td>...</td>\n",
       "      <td>...</td>\n",
       "      <td>...</td>\n",
       "      <td>...</td>\n",
       "      <td>...</td>\n",
       "      <td>...</td>\n",
       "      <td>...</td>\n",
       "      <td>...</td>\n",
       "      <td>...</td>\n",
       "      <td>...</td>\n",
       "      <td>...</td>\n",
       "      <td>...</td>\n",
       "      <td>...</td>\n",
       "      <td>...</td>\n",
       "      <td>...</td>\n",
       "      <td>...</td>\n",
       "      <td>...</td>\n",
       "      <td>...</td>\n",
       "      <td>...</td>\n",
       "      <td>...</td>\n",
       "      <td>...</td>\n",
       "      <td>...</td>\n",
       "      <td>...</td>\n",
       "      <td>...</td>\n",
       "      <td>...</td>\n",
       "      <td>...</td>\n",
       "      <td>...</td>\n",
       "      <td>...</td>\n",
       "      <td>...</td>\n",
       "      <td>...</td>\n",
       "      <td>...</td>\n",
       "      <td>...</td>\n",
       "      <td>...</td>\n",
       "      <td>...</td>\n",
       "      <td>...</td>\n",
       "      <td>...</td>\n",
       "      <td>...</td>\n",
       "      <td>...</td>\n",
       "      <td>...</td>\n",
       "      <td>...</td>\n",
       "      <td>...</td>\n",
       "      <td>...</td>\n",
       "    </tr>\n",
       "    <tr>\n",
       "      <th>771</th>\n",
       "      <td>169.970839</td>\n",
       "      <td>143.823759</td>\n",
       "      <td>1.0</td>\n",
       "      <td>185.368575</td>\n",
       "      <td>172.000125</td>\n",
       "      <td>1.0</td>\n",
       "      <td>199.697188</td>\n",
       "      <td>195.506898</td>\n",
       "      <td>1.0</td>\n",
       "      <td>224.285712</td>\n",
       "      <td>229.285281</td>\n",
       "      <td>1.0</td>\n",
       "      <td>76.418275</td>\n",
       "      <td>106.737472</td>\n",
       "      <td>1.0</td>\n",
       "      <td>86.879396</td>\n",
       "      <td>107.012038</td>\n",
       "      <td>1.0</td>\n",
       "      <td>125.062900</td>\n",
       "      <td>127.552833</td>\n",
       "      <td>1.0</td>\n",
       "      <td>153.440752</td>\n",
       "      <td>135.670310</td>\n",
       "      <td>1.0</td>\n",
       "      <td>127.455060</td>\n",
       "      <td>150.048668</td>\n",
       "      <td>1.0</td>\n",
       "      <td>159.557023</td>\n",
       "      <td>179.092583</td>\n",
       "      <td>1.0</td>\n",
       "      <td>183.659247</td>\n",
       "      <td>188.986770</td>\n",
       "      <td>1.0</td>\n",
       "      <td>152.942348</td>\n",
       "      <td>254.739095</td>\n",
       "      <td>1.0</td>\n",
       "      <td>166.157572</td>\n",
       "      <td>221.481425</td>\n",
       "      <td>1.0</td>\n",
       "      <td>193.048576</td>\n",
       "      <td>...</td>\n",
       "      <td>1.0</td>\n",
       "      <td>208.931593</td>\n",
       "      <td>59.714134</td>\n",
       "      <td>1.0</td>\n",
       "      <td>201.423593</td>\n",
       "      <td>66.247223</td>\n",
       "      <td>1.0</td>\n",
       "      <td>190.703016</td>\n",
       "      <td>101.256999</td>\n",
       "      <td>1.0</td>\n",
       "      <td>171.653179</td>\n",
       "      <td>128.269723</td>\n",
       "      <td>1.0</td>\n",
       "      <td>193.815320</td>\n",
       "      <td>141.775057</td>\n",
       "      <td>1.000000</td>\n",
       "      <td>200.403587</td>\n",
       "      <td>164.234240</td>\n",
       "      <td>1.0</td>\n",
       "      <td>200.210356</td>\n",
       "      <td>181.958995</td>\n",
       "      <td>1.0</td>\n",
       "      <td>274.775608</td>\n",
       "      <td>131.774609</td>\n",
       "      <td>1.0</td>\n",
       "      <td>228.907904</td>\n",
       "      <td>167.374575</td>\n",
       "      <td>1.0</td>\n",
       "      <td>207.622127</td>\n",
       "      <td>190.065652</td>\n",
       "      <td>1.0</td>\n",
       "      <td>313.187490</td>\n",
       "      <td>227.709177</td>\n",
       "      <td>1.0</td>\n",
       "      <td>253.319597</td>\n",
       "      <td>204.312641</td>\n",
       "      <td>1.0</td>\n",
       "      <td>214.551064</td>\n",
       "      <td>200.614662</td>\n",
       "      <td>1.0</td>\n",
       "    </tr>\n",
       "    <tr>\n",
       "      <th>772</th>\n",
       "      <td>172.308163</td>\n",
       "      <td>142.964749</td>\n",
       "      <td>1.0</td>\n",
       "      <td>187.789106</td>\n",
       "      <td>171.313840</td>\n",
       "      <td>1.0</td>\n",
       "      <td>199.312107</td>\n",
       "      <td>194.848568</td>\n",
       "      <td>1.0</td>\n",
       "      <td>221.274137</td>\n",
       "      <td>230.864758</td>\n",
       "      <td>1.0</td>\n",
       "      <td>88.050657</td>\n",
       "      <td>100.731164</td>\n",
       "      <td>1.0</td>\n",
       "      <td>96.676231</td>\n",
       "      <td>101.997989</td>\n",
       "      <td>1.0</td>\n",
       "      <td>130.227931</td>\n",
       "      <td>124.459037</td>\n",
       "      <td>1.0</td>\n",
       "      <td>156.429339</td>\n",
       "      <td>132.627173</td>\n",
       "      <td>1.0</td>\n",
       "      <td>138.147987</td>\n",
       "      <td>149.500036</td>\n",
       "      <td>1.0</td>\n",
       "      <td>163.077798</td>\n",
       "      <td>175.688158</td>\n",
       "      <td>1.0</td>\n",
       "      <td>180.091265</td>\n",
       "      <td>184.777544</td>\n",
       "      <td>1.0</td>\n",
       "      <td>152.005776</td>\n",
       "      <td>271.820887</td>\n",
       "      <td>1.0</td>\n",
       "      <td>169.834216</td>\n",
       "      <td>222.253471</td>\n",
       "      <td>1.0</td>\n",
       "      <td>192.383048</td>\n",
       "      <td>...</td>\n",
       "      <td>1.0</td>\n",
       "      <td>209.657078</td>\n",
       "      <td>56.035825</td>\n",
       "      <td>1.0</td>\n",
       "      <td>203.713654</td>\n",
       "      <td>62.818142</td>\n",
       "      <td>1.0</td>\n",
       "      <td>189.166500</td>\n",
       "      <td>99.571755</td>\n",
       "      <td>1.0</td>\n",
       "      <td>174.877406</td>\n",
       "      <td>126.369184</td>\n",
       "      <td>1.0</td>\n",
       "      <td>198.636748</td>\n",
       "      <td>151.694405</td>\n",
       "      <td>1.000000</td>\n",
       "      <td>204.573407</td>\n",
       "      <td>163.311457</td>\n",
       "      <td>1.0</td>\n",
       "      <td>201.825294</td>\n",
       "      <td>181.570829</td>\n",
       "      <td>1.0</td>\n",
       "      <td>269.198709</td>\n",
       "      <td>140.545470</td>\n",
       "      <td>1.0</td>\n",
       "      <td>231.484505</td>\n",
       "      <td>169.959024</td>\n",
       "      <td>1.0</td>\n",
       "      <td>208.918447</td>\n",
       "      <td>188.108231</td>\n",
       "      <td>1.0</td>\n",
       "      <td>310.667049</td>\n",
       "      <td>239.174474</td>\n",
       "      <td>1.0</td>\n",
       "      <td>254.445821</td>\n",
       "      <td>209.316956</td>\n",
       "      <td>1.0</td>\n",
       "      <td>214.943146</td>\n",
       "      <td>202.664707</td>\n",
       "      <td>1.0</td>\n",
       "    </tr>\n",
       "    <tr>\n",
       "      <th>773</th>\n",
       "      <td>154.451501</td>\n",
       "      <td>199.543175</td>\n",
       "      <td>1.0</td>\n",
       "      <td>170.299009</td>\n",
       "      <td>228.025584</td>\n",
       "      <td>1.0</td>\n",
       "      <td>181.041729</td>\n",
       "      <td>252.945405</td>\n",
       "      <td>1.0</td>\n",
       "      <td>198.383642</td>\n",
       "      <td>288.241173</td>\n",
       "      <td>1.0</td>\n",
       "      <td>79.772110</td>\n",
       "      <td>151.169410</td>\n",
       "      <td>1.0</td>\n",
       "      <td>89.884094</td>\n",
       "      <td>152.170086</td>\n",
       "      <td>1.0</td>\n",
       "      <td>114.357938</td>\n",
       "      <td>176.588276</td>\n",
       "      <td>1.0</td>\n",
       "      <td>139.978003</td>\n",
       "      <td>189.831818</td>\n",
       "      <td>1.0</td>\n",
       "      <td>123.561471</td>\n",
       "      <td>219.610704</td>\n",
       "      <td>1.0</td>\n",
       "      <td>149.546911</td>\n",
       "      <td>237.166086</td>\n",
       "      <td>1.0</td>\n",
       "      <td>166.984418</td>\n",
       "      <td>244.583902</td>\n",
       "      <td>1.0</td>\n",
       "      <td>136.150382</td>\n",
       "      <td>340.325181</td>\n",
       "      <td>1.0</td>\n",
       "      <td>153.151174</td>\n",
       "      <td>284.343319</td>\n",
       "      <td>1.0</td>\n",
       "      <td>172.643041</td>\n",
       "      <td>...</td>\n",
       "      <td>1.0</td>\n",
       "      <td>188.152905</td>\n",
       "      <td>122.135121</td>\n",
       "      <td>1.0</td>\n",
       "      <td>180.791409</td>\n",
       "      <td>128.750079</td>\n",
       "      <td>1.0</td>\n",
       "      <td>167.655057</td>\n",
       "      <td>160.327260</td>\n",
       "      <td>1.0</td>\n",
       "      <td>156.033834</td>\n",
       "      <td>183.179548</td>\n",
       "      <td>1.0</td>\n",
       "      <td>180.797396</td>\n",
       "      <td>199.219518</td>\n",
       "      <td>1.000000</td>\n",
       "      <td>186.724236</td>\n",
       "      <td>223.357628</td>\n",
       "      <td>1.0</td>\n",
       "      <td>184.465302</td>\n",
       "      <td>237.416760</td>\n",
       "      <td>1.0</td>\n",
       "      <td>250.944738</td>\n",
       "      <td>214.592725</td>\n",
       "      <td>1.0</td>\n",
       "      <td>212.459508</td>\n",
       "      <td>230.086657</td>\n",
       "      <td>1.0</td>\n",
       "      <td>188.942075</td>\n",
       "      <td>247.239105</td>\n",
       "      <td>1.0</td>\n",
       "      <td>290.800425</td>\n",
       "      <td>311.088034</td>\n",
       "      <td>1.0</td>\n",
       "      <td>232.884154</td>\n",
       "      <td>273.829690</td>\n",
       "      <td>1.0</td>\n",
       "      <td>194.955179</td>\n",
       "      <td>260.850759</td>\n",
       "      <td>1.0</td>\n",
       "    </tr>\n",
       "    <tr>\n",
       "      <th>774</th>\n",
       "      <td>173.071951</td>\n",
       "      <td>140.484380</td>\n",
       "      <td>1.0</td>\n",
       "      <td>188.648389</td>\n",
       "      <td>170.012882</td>\n",
       "      <td>1.0</td>\n",
       "      <td>200.651872</td>\n",
       "      <td>193.371382</td>\n",
       "      <td>1.0</td>\n",
       "      <td>218.894608</td>\n",
       "      <td>232.161340</td>\n",
       "      <td>1.0</td>\n",
       "      <td>95.774111</td>\n",
       "      <td>94.668630</td>\n",
       "      <td>1.0</td>\n",
       "      <td>103.766329</td>\n",
       "      <td>97.791657</td>\n",
       "      <td>1.0</td>\n",
       "      <td>132.380077</td>\n",
       "      <td>123.266413</td>\n",
       "      <td>1.0</td>\n",
       "      <td>157.437853</td>\n",
       "      <td>133.075908</td>\n",
       "      <td>1.0</td>\n",
       "      <td>145.146608</td>\n",
       "      <td>173.457397</td>\n",
       "      <td>1.0</td>\n",
       "      <td>175.434341</td>\n",
       "      <td>183.209343</td>\n",
       "      <td>1.0</td>\n",
       "      <td>187.528088</td>\n",
       "      <td>186.903748</td>\n",
       "      <td>1.0</td>\n",
       "      <td>132.550002</td>\n",
       "      <td>265.639940</td>\n",
       "      <td>1.0</td>\n",
       "      <td>165.294448</td>\n",
       "      <td>219.454800</td>\n",
       "      <td>1.0</td>\n",
       "      <td>192.021660</td>\n",
       "      <td>...</td>\n",
       "      <td>1.0</td>\n",
       "      <td>201.426339</td>\n",
       "      <td>53.530905</td>\n",
       "      <td>1.0</td>\n",
       "      <td>194.709010</td>\n",
       "      <td>61.866773</td>\n",
       "      <td>1.0</td>\n",
       "      <td>185.078252</td>\n",
       "      <td>97.423575</td>\n",
       "      <td>1.0</td>\n",
       "      <td>174.621245</td>\n",
       "      <td>124.118877</td>\n",
       "      <td>1.0</td>\n",
       "      <td>200.080331</td>\n",
       "      <td>118.189349</td>\n",
       "      <td>1.000000</td>\n",
       "      <td>205.028712</td>\n",
       "      <td>160.621989</td>\n",
       "      <td>1.0</td>\n",
       "      <td>203.794446</td>\n",
       "      <td>176.283986</td>\n",
       "      <td>1.0</td>\n",
       "      <td>278.310245</td>\n",
       "      <td>168.384181</td>\n",
       "      <td>1.0</td>\n",
       "      <td>234.045678</td>\n",
       "      <td>177.574143</td>\n",
       "      <td>1.0</td>\n",
       "      <td>210.390793</td>\n",
       "      <td>190.366917</td>\n",
       "      <td>1.0</td>\n",
       "      <td>316.393932</td>\n",
       "      <td>262.028331</td>\n",
       "      <td>1.0</td>\n",
       "      <td>248.696326</td>\n",
       "      <td>217.293972</td>\n",
       "      <td>1.0</td>\n",
       "      <td>214.746302</td>\n",
       "      <td>202.646239</td>\n",
       "      <td>1.0</td>\n",
       "    </tr>\n",
       "    <tr>\n",
       "      <th>775</th>\n",
       "      <td>170.840578</td>\n",
       "      <td>142.298970</td>\n",
       "      <td>1.0</td>\n",
       "      <td>187.916859</td>\n",
       "      <td>172.023873</td>\n",
       "      <td>1.0</td>\n",
       "      <td>201.045216</td>\n",
       "      <td>193.167097</td>\n",
       "      <td>1.0</td>\n",
       "      <td>221.922278</td>\n",
       "      <td>229.442552</td>\n",
       "      <td>1.0</td>\n",
       "      <td>75.952819</td>\n",
       "      <td>114.105873</td>\n",
       "      <td>1.0</td>\n",
       "      <td>85.861539</td>\n",
       "      <td>115.228093</td>\n",
       "      <td>1.0</td>\n",
       "      <td>125.228417</td>\n",
       "      <td>131.679502</td>\n",
       "      <td>1.0</td>\n",
       "      <td>153.609789</td>\n",
       "      <td>135.585461</td>\n",
       "      <td>1.0</td>\n",
       "      <td>149.068042</td>\n",
       "      <td>189.153272</td>\n",
       "      <td>1.0</td>\n",
       "      <td>169.747869</td>\n",
       "      <td>182.278730</td>\n",
       "      <td>1.0</td>\n",
       "      <td>188.165211</td>\n",
       "      <td>189.485543</td>\n",
       "      <td>1.0</td>\n",
       "      <td>127.262810</td>\n",
       "      <td>217.378157</td>\n",
       "      <td>1.0</td>\n",
       "      <td>170.482353</td>\n",
       "      <td>203.325147</td>\n",
       "      <td>1.0</td>\n",
       "      <td>192.471457</td>\n",
       "      <td>...</td>\n",
       "      <td>1.0</td>\n",
       "      <td>201.550446</td>\n",
       "      <td>50.681047</td>\n",
       "      <td>1.0</td>\n",
       "      <td>194.145604</td>\n",
       "      <td>58.309696</td>\n",
       "      <td>1.0</td>\n",
       "      <td>181.754811</td>\n",
       "      <td>96.259705</td>\n",
       "      <td>1.0</td>\n",
       "      <td>171.640104</td>\n",
       "      <td>125.553771</td>\n",
       "      <td>1.0</td>\n",
       "      <td>195.363525</td>\n",
       "      <td>115.912379</td>\n",
       "      <td>1.000000</td>\n",
       "      <td>202.273000</td>\n",
       "      <td>153.175711</td>\n",
       "      <td>1.0</td>\n",
       "      <td>201.356308</td>\n",
       "      <td>178.733691</td>\n",
       "      <td>1.0</td>\n",
       "      <td>285.313118</td>\n",
       "      <td>182.513856</td>\n",
       "      <td>1.0</td>\n",
       "      <td>237.998104</td>\n",
       "      <td>182.349010</td>\n",
       "      <td>1.0</td>\n",
       "      <td>209.296394</td>\n",
       "      <td>191.114731</td>\n",
       "      <td>1.0</td>\n",
       "      <td>307.896201</td>\n",
       "      <td>232.541283</td>\n",
       "      <td>1.0</td>\n",
       "      <td>234.316534</td>\n",
       "      <td>202.715612</td>\n",
       "      <td>1.0</td>\n",
       "      <td>211.706642</td>\n",
       "      <td>199.755879</td>\n",
       "      <td>1.0</td>\n",
       "    </tr>\n",
       "  </tbody>\n",
       "</table>\n",
       "<p>776 rows × 90 columns</p>\n",
       "</div>"
      ],
      "text/plain": [
       "scorer    DeepCut_resnet50_small_arenaJun18shuffle1_1030000  ...           \n",
       "bodyparts                                               bp1  ...       bp30\n",
       "coords                                                    x  ... likelihood\n",
       "0                                                201.578793  ...        1.0\n",
       "1                                                200.033580  ...        1.0\n",
       "2                                                196.297055  ...        1.0\n",
       "3                                                192.885468  ...        1.0\n",
       "4                                                188.046330  ...        1.0\n",
       "..                                                      ...  ...        ...\n",
       "771                                              169.970839  ...        1.0\n",
       "772                                              172.308163  ...        1.0\n",
       "773                                              154.451501  ...        1.0\n",
       "774                                              173.071951  ...        1.0\n",
       "775                                              170.840578  ...        1.0\n",
       "\n",
       "[776 rows x 90 columns]"
      ]
     },
     "execution_count": 17,
     "metadata": {},
     "output_type": "execute_result"
    }
   ],
   "source": [
    "df"
   ]
  },
  {
   "cell_type": "markdown",
   "metadata": {
    "id": "ORhGFAWD-iyY"
   },
   "source": [
    "<img src=\"img/Ant_Label.png\" width=\"300\"/>"
   ]
  },
  {
   "cell_type": "markdown",
   "metadata": {
    "id": "ujKf9tNs-iyZ"
   },
   "source": [
    "You will see nested columns as well as multiple rows. This is how DeepLabCut formats its output data. In this dataset, we have 30 bodypoint columns, and each column as 3 information (x coord,y coord, and likelihood). We are just going to use the x and y coordinates for right now. The rows corresponds to each frame of the video, and this should match with the video file we will analyze later. Let's format this into numpy so that is will be easier to analyze later on."
   ]
  },
  {
   "cell_type": "code",
   "execution_count": null,
   "metadata": {
    "colab": {
     "base_uri": "https://localhost:8080/"
    },
    "id": "gvRtWqZm-iyZ",
    "outputId": "3c787bfc-6cff-433a-8bf8-afa5411dc000"
   },
   "outputs": [
    {
     "name": "stdout",
     "output_type": "stream",
     "text": [
      "(776, 30)\n",
      "(776, 30)\n",
      "(776, 30, 2)\n"
     ]
    }
   ],
   "source": [
    "# take cross sections of df to create numpy arrays of x data and y data\n",
    "x_data = df.xs('x', level=\"coords\", axis=1).to_numpy()\n",
    "y_data = df.xs('y', level=\"coords\", axis=1).to_numpy()\n",
    "print(x_data.shape)\n",
    "print(y_data.shape)\n",
    "\n",
    "# stack the x and y data on top of each other to create 3D numpy array\n",
    "data_i = np.concatenate((\n",
    "            np.expand_dims(x_data, axis=-1), \n",
    "            np.expand_dims(y_data, axis=-1)), axis=-1)\n",
    "print(data_i.shape)"
   ]
  },
  {
   "cell_type": "markdown",
   "metadata": {
    "id": "1Z_HN2DY-iyZ"
   },
   "source": [
    "You are done extracting the DeepLabCut data now!!! Everything you do from here on out is up to you. However, before I set you free, let me first show you some visualization and handy tools."
   ]
  },
  {
   "cell_type": "markdown",
   "metadata": {
    "id": "o42BR24K-iyZ"
   },
   "source": [
    "## 1. Visualize\n"
   ]
  },
  {
   "cell_type": "code",
   "execution_count": null,
   "metadata": {
    "colab": {
     "base_uri": "https://localhost:8080/",
     "height": 265
    },
    "id": "Nyd3TD6s-iyZ",
    "outputId": "31d91910-00e6-47b7-b7c8-234fd323be48"
   },
   "outputs": [
    {
     "data": {
      "image/png": "[encoded data removed]",
      "text/plain": [
       "<Figure size 432x288 with 1 Axes>"
      ]
     },
     "metadata": {
      "needs_background": "light"
     },
     "output_type": "display_data"
    }
   ],
   "source": [
    "frame = 100\n",
    "plt.scatter(data_i[frame,:,0], data_i[frame,:,1])\n",
    "plt.show()"
   ]
  },
  {
   "cell_type": "markdown",
   "metadata": {
    "id": "u0GvdnRM-iyZ"
   },
   "source": [
    "Can you see the ant? It may be hard to see through just body points, so let's overly lay them on top of an image. If you look back at your data, each data sample has a corresponding avi video. We will parse the video and plot the corresponding image for a given frame with the bodypoitns."
   ]
  },
  {
   "cell_type": "code",
   "execution_count": null,
   "metadata": {
    "colab": {
     "base_uri": "https://localhost:8080/"
    },
    "id": "GhnDzZqJ-iya",
    "outputId": "1bdf79cc-25bc-44a1-9f8b-be17308502c3"
   },
   "outputs": [
    {
     "name": "stdout",
     "output_type": "stream",
     "text": [
      "(776, 400, 400, 3)\n"
     ]
    }
   ],
   "source": [
    "import skvideo.io\n",
    "\n",
    "# create path for glob\n",
    "data_path = \"/content/gdrive/My Drive/First year/LS100/guide3/data/**\"\n",
    "video_path = f\"{data_path}/*.avi\"\n",
    "\n",
    "for path in glob(video_path):\n",
    "    videodata = skvideo.io.vread(path)\n",
    "    print(videodata.shape)\n",
    "    break"
   ]
  },
  {
   "cell_type": "code",
   "execution_count": null,
   "metadata": {
    "colab": {
     "base_uri": "https://localhost:8080/",
     "height": 269
    },
    "id": "yw542BPp-iya",
    "outputId": "a51d16ec-8de3-4c9b-d486-3c85f3cb9a46",
    "scrolled": true
   },
   "outputs": [
    {
     "data": {
      "image/png": "[encoded data removed]",
      "text/plain": [
       "<Figure size 432x288 with 1 Axes>"
      ]
     },
     "metadata": {
      "needs_background": "light"
     },
     "output_type": "display_data"
    }
   ],
   "source": [
    "frame = 100\n",
    "plt.imshow(videodata[frame,:,:,:])\n",
    "plt.scatter(data_i[frame,:,0], data_i[frame,:,1], s=8, c='r', alpha=0.7)\n",
    "plt.show()"
   ]
  },
  {
   "cell_type": "markdown",
   "metadata": {
    "id": "D-9kpuKR-iya"
   },
   "source": [
    "Now can you see the ant? Pretty neat right?! Now that you know exactly what the data looks like and what you can do with it, let me teach you two import preprocessing steps you should do before you do any analysis."
   ]
  },
  {
   "cell_type": "markdown",
   "metadata": {
    "id": "hsoxsnS4-iya"
   },
   "source": [
    "## 1. Preprocess\n",
    "If you look at the body points again, you will notice that they are not centered at zero. If you just want to analyze the bodypoints relative to the stage, then you can go ahead and use the data. However, most of the time, you will want to analyze the body points relative to the center of the ant. You may even want your ants to be rotationally corrected as well so that the ant is always facing vertically. Both of these preprocessing step depend on what sort of question you are trying to answer. I will go ahead and teach both concepts so that you may look back on them later."
   ]
  },
  {
   "cell_type": "markdown",
   "metadata": {
    "id": "8m-U6xfx-iya"
   },
   "source": [
    "### 1.0 Translational Correction\n",
    "In our model, body point 2 is the center of the ant. Therefore, we can just subtract all the body points to body point 2 so that the entire data is translated to zero."
   ]
  },
  {
   "cell_type": "markdown",
   "metadata": {
    "id": "LMvEjk7A-iya"
   },
   "source": [
    "#### Method 1"
   ]
  },
  {
   "cell_type": "code",
   "execution_count": null,
   "metadata": {
    "colab": {
     "base_uri": "https://localhost:8080/"
    },
    "id": "kxsrXX1Z-iya",
    "outputId": "8472849c-3db1-47e3-8d8a-2b3d7e3a8ea5"
   },
   "outputs": [
    {
     "name": "stdout",
     "output_type": "stream",
     "text": [
      "(776, 30, 2)\n"
     ]
    }
   ],
   "source": [
    "# using for loops\n",
    "\n",
    "# create copy of data_i\n",
    "trans_data = np.copy(data_i)\n",
    "\n",
    "# specify number of body points (bps) in ant\n",
    "num_bps = 30\n",
    "\n",
    "# loop through each bp, translating it so that the ant is centered around bp3 (index 2 corresponds to bp3)\n",
    "for i in range(num_bps):\n",
    "    trans_data[:,i,:] = data_i[:,i,:] - data_i[:,2,:]\n",
    "\n",
    "print(trans_data.shape)"
   ]
  },
  {
   "cell_type": "markdown",
   "metadata": {
    "id": "NC0pTwdv-iyb"
   },
   "source": [
    "#### Method 2"
   ]
  },
  {
   "cell_type": "code",
   "execution_count": null,
   "metadata": {
    "colab": {
     "base_uri": "https://localhost:8080/"
    },
    "id": "9u1AD1xb-iyb",
    "outputId": "7c78d6a6-cb70-48c6-bc22-d7d2f57ead11"
   },
   "outputs": [
    {
     "name": "stdout",
     "output_type": "stream",
     "text": [
      "(776, 30, 2)\n"
     ]
    }
   ],
   "source": [
    "# using numpy array broadcasting\n",
    "trans_data = data_i - data_i[:,2,:][:,np.newaxis,:]\n",
    "print(trans_data.shape)"
   ]
  },
  {
   "cell_type": "code",
   "execution_count": null,
   "metadata": {
    "colab": {
     "base_uri": "https://localhost:8080/",
     "height": 265
    },
    "id": "wlBuFC3s-iyb",
    "outputId": "cb8e1d62-80e0-4b09-b37c-c9bb3f1884f2"
   },
   "outputs": [
    {
     "data": {
      "image/png": "[encoded data removed]",
      "text/plain": [
       "<Figure size 432x288 with 1 Axes>"
      ]
     },
     "metadata": {
      "needs_background": "light"
     },
     "output_type": "display_data"
    }
   ],
   "source": [
    "frame = 100\n",
    "plt.scatter(data_i[frame,:,0], data_i[frame,:,1], s=12, c='b', alpha=0.7)\n",
    "plt.scatter(trans_data[frame,:,0], trans_data[frame,:,1], s=12, c='r', alpha=0.7)\n",
    "plt.show()"
   ]
  },
  {
   "cell_type": "markdown",
   "metadata": {
    "id": "vLi0oej0-iyb"
   },
   "source": [
    "### 1.1. Rotational Correction\n",
    "\n",
    "Rotational correction is a little more complicated and requires some understanding of linera algebra. How you rotate your data points, as you probably know by now, depends on your model. Here, we are going to use body points 2 and 3 to create an axis that we will rotate so that it is always vertical. Note that the body points you use for other models may vary. We will then use the rotation matrix so that all the body points are aligned vertically.\n",
    "\n",
    "First, watch this [video](https://www.youtube.com/watch?v=OYuoPTRVzxY) to understand how rotation matrix works.\n",
    "Once you have watched this video, you should have a farily good grasp of how you can rotate any points in 2D by a certain degree. Now, you may be wondering how many angles should you rotate by? Well, the angle you will rotate the entire body points by will the angle between the body axis and the vertical line for each frame. Note: the angle for each frame will most likely differ, unless the ant is never turning."
   ]
  },
  {
   "cell_type": "markdown",
   "metadata": {
    "id": "K8ExqFc4-iyb"
   },
   "source": [
    "![Rotation Matrix](img/RotationMatrix.gif)\n",
    "![Rotation Matrix2](img/rotationmatrix2d.png)"
   ]
  },
  {
   "cell_type": "code",
   "execution_count": 39,
   "metadata": {
    "colab": {
     "base_uri": "https://localhost:8080/",
     "height": 286
    },
    "id": "NV0rOtHB-iyb",
    "outputId": "e76c2da7-ba38-4bfa-ea43-ac0aefa7336c",
    "scrolled": true
   },
   "outputs": [
    {
     "name": "stdout",
     "output_type": "stream",
     "text": [
      "(2, 2)\n"
     ]
    },
    {
     "data": {
      "image/png": "[encoded data removed]",
      "text/plain": [
       "<Figure size 432x288 with 1 Axes>"
      ]
     },
     "metadata": {
      "needs_background": "light"
     },
     "output_type": "display_data"
    }
   ],
   "source": [
    "# ex: rotating two points by pi/2 radians\n",
    "\n",
    "# set angle of rotation\n",
    "angle = np.pi/2\n",
    "\n",
    "# create original points\n",
    "point1 = np.array([[1,2], [-1.2, -1.5]])\n",
    "\n",
    "# create rotation matrix\n",
    "rotation_matrix = np.array([[np.cos(angle), -1*np.sin(angle)], [np.sin(angle), np.cos(angle)]])\n",
    "print(rotation_matrix.shape)\n",
    "\n",
    "# rotate points\n",
    "point2 = np.matmul(rotation_matrix, point1.T)\n",
    "\n",
    "# plot points\n",
    "fig, ax = plt.subplots()\n",
    "ax.scatter(point1[:,0], point1[:,1], c='b')\n",
    "ax.scatter(point2[:,0], point2[:,1], c='r')\n",
    "\n",
    "# set axes range\n",
    "ax.set_xlim(-3, 3)\n",
    "ax.set_ylim(-3, 3)\n",
    "ax.set_aspect('equal')\n",
    "ax.axhline(y=0, color='k')\n",
    "ax.axvline(x=0, color='k')\n",
    "plt.show()"
   ]
  },
  {
   "cell_type": "markdown",
   "metadata": {
    "id": "C5yXbcjx-iyb"
   },
   "source": [
    "Now you know how to rotate points, how do you calculate the angles that you need to rotate? Well, if we start out with the blue position and our axis is slanted, then we wanted to compute the angle theta between the ants axis and the vertical line.\n",
    "<img src=\"img/angle.png\" width=\"300\"/>"
   ]
  },
  {
   "cell_type": "code",
   "execution_count": null,
   "metadata": {
    "id": "l-151L_c-iyb"
   },
   "outputs": [],
   "source": [
    "# compute ant's axis for each frame\n",
    "axis = trans_data[:,1,:] - trans_data[:,2,:]\n",
    "\n",
    "# compute angle between ant's axis and vertical axis\n",
    "angles = np.sign(axis[:,0]) * np.pi/2 - np.arctan( axis[:,1]/axis[:,0] )"
   ]
  },
  {
   "cell_type": "code",
   "execution_count": null,
   "metadata": {
    "colab": {
     "base_uri": "https://localhost:8080/",
     "height": 350
    },
    "id": "N3OrbQAs-iyb",
    "outputId": "bd06677a-5a28-4aeb-9eb9-04a69e0cac49"
   },
   "outputs": [
    {
     "data": {
      "image/png": "[encoded data removed]",
      "text/plain": [
       "<Figure size 1440x360 with 1 Axes>"
      ]
     },
     "metadata": {
      "needs_background": "light"
     },
     "output_type": "display_data"
    }
   ],
   "source": [
    "fig, ax = plt.subplots(figsize=(20,5))\n",
    "ax.plot(angles)\n",
    "plt.title(\"Body Axis Angle\")\n",
    "plt.ylabel(\"angle (rad)\")\n",
    "plt.xlabel(\"frames\")\n",
    "plt.show()"
   ]
  },
  {
   "cell_type": "markdown",
   "metadata": {
    "id": "YtdSn38_-iyb"
   },
   "source": [
    "Why do you think there are a few sharp vertical lines?\n",
    "\n",
    "Now that we have the angles and the rotation matrix, we can finally rotate some body points!"
   ]
  },
  {
   "cell_type": "code",
   "execution_count": null,
   "metadata": {
    "colab": {
     "base_uri": "https://localhost:8080/"
    },
    "id": "eVy1ebX_-iyb",
    "outputId": "af2b61a9-ff57-4fae-face-98f38f848933"
   },
   "outputs": [
    {
     "name": "stdout",
     "output_type": "stream",
     "text": [
      "(2, 2)\n",
      "(30, 2)\n"
     ]
    }
   ],
   "source": [
    "# rotate ant in frame 100 according to angles calculated above\n",
    "frame = 100\n",
    "angle = angles[frame]\n",
    "rotation_matrix = np.array([[np.cos(angle), -1*np.sin(angle)], [np.sin(angle), np.cos(angle)]])\n",
    "print(rotation_matrix.shape)\n",
    "rot_data = np.matmul(rotation_matrix, trans_data[frame,:,:].T).T\n",
    "print(rot_data.shape)"
   ]
  },
  {
   "cell_type": "code",
   "execution_count": null,
   "metadata": {
    "colab": {
     "base_uri": "https://localhost:8080/",
     "height": 623
    },
    "id": "Q41Fl6Zn-iyc",
    "outputId": "491d86d5-ade0-42ef-f510-ce2bfb61b925"
   },
   "outputs": [
    {
     "data": {
      "image/png": "[encoded data removed]",
      "text/plain": [
       "<Figure size 360x360 with 1 Axes>"
      ]
     },
     "metadata": {
      "needs_background": "light"
     },
     "output_type": "display_data"
    },
    {
     "data": {
      "image/png": "[encoded data removed]",
      "text/plain": [
       "<Figure size 360x360 with 1 Axes>"
      ]
     },
     "metadata": {
      "needs_background": "light"
     },
     "output_type": "display_data"
    }
   ],
   "source": [
    "fig, ax = plt.subplots(figsize=(5,5))\n",
    "ax.axhline(y=0, color='k', alpha=0.4)\n",
    "ax.axvline(x=0, color='k', alpha=0.4)\n",
    "ax.scatter(trans_data[frame,:,0],trans_data[frame,:,1], c='b', s=10, alpha=0.9)\n",
    "ax.set_xlim(-170, 170)\n",
    "ax.set_ylim(-170, 170)\n",
    "plt.show()\n",
    "\n",
    "fig, ax = plt.subplots(figsize=(5,5))\n",
    "ax.axhline(y=0, color='k', alpha=0.4)\n",
    "ax.axvline(x=0, color='k', alpha=0.4)\n",
    "ax.scatter(rot_data[:,0],rot_data[:,1], c='r', s=10, alpha=0.9)\n",
    "ax.set_xlim(-170, 170)\n",
    "ax.set_ylim(-170, 170)\n",
    "plt.show()"
   ]
  }
 ],
 "metadata": {
  "colab": {
   "name": "Guide_3.ipynb",
   "provenance": []
  },
  "kernelspec": {
   "display_name": "Python 3",
   "language": "python",
   "name": "python3"
  },
  "language_info": {
   "codemirror_mode": {
    "name": "ipython",
    "version": 3
   },
   "file_extension": ".py",
   "mimetype": "text/x-python",
   "name": "python",
   "nbconvert_exporter": "python",
   "pygments_lexer": "ipython3",
   "version": "3.8.3"
  }
 },
 "nbformat": 4,
 "nbformat_minor": 1
}
