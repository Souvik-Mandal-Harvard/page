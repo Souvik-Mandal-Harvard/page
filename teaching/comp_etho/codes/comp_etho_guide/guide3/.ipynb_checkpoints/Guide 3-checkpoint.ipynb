{
 "cells": [
  {
   "cell_type": "markdown",
   "metadata": {},
   "source": [
    "<center><h1><font color='red'> Guide 3 |  Body Pose </font></h1></center>\n",
    "\n",
    "In this project, you will learn the structure of the DeepLabCut output data and preprocessing tools to analyze them across samples. \n",
    "\n",
    "## Objective\n",
    "* Understand the structure of DeepLabCut Body Point data\n",
    "* Visualize the body points\n",
    "* Learn how to translate and rotate body points"
   ]
  },
  {
   "cell_type": "markdown",
   "metadata": {},
   "source": [
    "## Table of Content:\n",
    "0. DeepLabCut h5 data\n",
    "1. Visualize\n",
    "2. Preprocess\n",
    "3. Final"
   ]
  },
  {
   "cell_type": "code",
   "execution_count": 1,
   "metadata": {},
   "outputs": [
    {
     "data": {
      "text/html": [
       "\n",
       "<style>\n",
       ".output_png {\n",
       "    display: table-cell;\n",
       "    text-align: center;\n",
       "    vertical-align: middle;\n",
       "}\n",
       "</style>\n"
      ],
      "text/plain": [
       "<IPython.core.display.HTML object>"
      ]
     },
     "execution_count": 1,
     "metadata": {},
     "output_type": "execute_result"
    }
   ],
   "source": [
    "from IPython.core.display import HTML\n",
    "HTML(\"\"\"\n",
    "<style>\n",
    ".output_png {\n",
    "    display: table-cell;\n",
    "    text-align: center;\n",
    "    vertical-align: middle;\n",
    "}\n",
    "</style>\n",
    "\"\"\")"
   ]
  },
  {
   "cell_type": "markdown",
   "metadata": {},
   "source": [
    "## 0. DeepLabCut h5 data\n",
    "\n",
    "Here we will use the ```glob``` module to traverse the directories. \n",
    "\n",
    "TLDR: [Glob](https://docs.python.org/3/library/glob.html)\n",
    "\n",
    "\"**\" => recursively get all folders\n",
    "\n",
    "\"*\" => recursively get all files\n",
    "\n",
    "ex: \"data/**\" => recursively get all the folders in the data folder\n",
    "\n",
    "ex: \"data/**/*.npy\" => recursively get all the files (with the filetype .npy) that is in one of the subdirectories of data"
   ]
  },
  {
   "cell_type": "code",
   "execution_count": 4,
   "metadata": {},
   "outputs": [],
   "source": [
    "import numpy as np\n",
    "import matplotlib\n",
    "import matplotlib.pyplot as plt\n",
    "from glob import glob "
   ]
  },
  {
   "cell_type": "code",
   "execution_count": 9,
   "metadata": {},
   "outputs": [
    {
     "name": "stdout",
     "output_type": "stream",
     "text": [
      "data/mid_20181005_PP_trail1_196-1436/mid_20181005_PP_trail1_196-1436DeepCut_resnet50_small_arenaJun18shuffle1_1030000.h5\n",
      "data/mid_20181005_PP_trail1_1484-2711/mid_20181005_PP_trail1_1484-2711DeepCut_resnet50_small_arenaJun18shuffle1_1030000.h5\n",
      "data/maj_20181005_dP_food1_2867-3220/maj_20181005_dP_food1_2867-3220DeepCut_resnet50_small_arenaJun18shuffle1_1030000.h5\n",
      "data/min_20181029_PP_trail1_115-293/min_20181029_PP_trail1_115-293DeepCut_resnet50_small_arenaJun18shuffle1_1030000.h5\n",
      "data/maj_20181005_dP_food1_3509-4284/maj_20181005_dP_food1_3509-4284DeepCut_resnet50_small_arenaJun18shuffle1_1030000.h5\n",
      "data/min_20181029_PP_trail1_305-441/min_20181029_PP_trail1_305-441DeepCut_resnet50_small_arenaJun18shuffle1_1030000.h5\n"
     ]
    }
   ],
   "source": [
    "data_path = \"data/**\"\n",
    "h5_path = f\"{data_path}/*.h5\"\n",
    "for path in glob(h5_path):\n",
    "    print(path)"
   ]
  },
  {
   "cell_type": "markdown",
   "metadata": {},
   "source": [
    "HDF5 files are organized in a hierarchical structure, with two primary structures: groups and datasets.\n",
    "\n",
    "* HDF5 group: a grouping structure containing instances of zero or more groups or datasets, together with supporting metadata.\n",
    "* HDF5 dataset: a multidimensional array of data elements, together with supporting metadata.\n",
    "\n",
    "Working with groups and group members is similar in many ways to working with directories and files in UNIX. As with UNIX directories and files, objects in an HDF5 file are often described by giving their full (or absolute) path names.\n",
    "\n",
    "* / signifies the root group.\n",
    "* /foo signifies a member of the root group called foo.\n",
    "* /foo/zoo signifies a member of the group foo, which in turn is a member of the root group.\n",
    "\n",
    "Learn more [here](https://support.hdfgroup.org/HDF5/doc/H5.intro.html)\n",
    "\n",
    "To read .h5 files, we will use pandas. We can use the ```pd.HDFStore``` function to read the h5 file and open \"store\" session to read or write files. Once you open one \"store\" you have to close the store at the end so that you can open other \"store\". Think of h5 files like an actual store. When you go into the store and look for things, everything is in \"groups\" (e.g. breakfast aisle, cereal aisle...). Similarly, h5 files have groups. Once you go into a specific group, you will see rows of what you are looking for. This is your \"dataset\". The dataset will either be in the format of 2D matrix or 1D array."
   ]
  },
  {
   "cell_type": "code",
   "execution_count": 10,
   "metadata": {},
   "outputs": [],
   "source": [
    "import pandas as pd"
   ]
  },
  {
   "cell_type": "code",
   "execution_count": 15,
   "metadata": {
    "scrolled": false
   },
   "outputs": [
    {
     "name": "stdout",
     "output_type": "stream",
     "text": [
      "<class 'pandas.io.pytables.HDFStore'>\n",
      "File path: data/mid_20181005_PP_trail1_196-1436/mid_20181005_PP_trail1_196-1436DeepCut_resnet50_small_arenaJun18shuffle1_1030000.h5\n",
      "\n"
     ]
    }
   ],
   "source": [
    "data_path = \"data/**\"\n",
    "h5_path = f\"{data_path}/*.h5\"\n",
    "for path in glob(h5_path):\n",
    "    store = pd.HDFStore(path) # STORE\n",
    "    print(store)\n",
    "    df = store['df_with_missing'] # GROUP: df_with_missing; df is your dataset\n",
    "    store.close()\n",
    "    break"
   ]
  },
  {
   "cell_type": "code",
   "execution_count": 16,
   "metadata": {},
   "outputs": [
    {
     "data": {
      "text/html": [
       "<div>\n",
       "<style scoped>\n",
       "    .dataframe tbody tr th:only-of-type {\n",
       "        vertical-align: middle;\n",
       "    }\n",
       "\n",
       "    .dataframe tbody tr th {\n",
       "        vertical-align: top;\n",
       "    }\n",
       "\n",
       "    .dataframe thead tr th {\n",
       "        text-align: left;\n",
       "    }\n",
       "</style>\n",
       "<table border=\"1\" class=\"dataframe\">\n",
       "  <thead>\n",
       "    <tr>\n",
       "      <th>scorer</th>\n",
       "      <th colspan=\"21\" halign=\"left\">DeepCut_resnet50_small_arenaJun18shuffle1_1030000</th>\n",
       "    </tr>\n",
       "    <tr>\n",
       "      <th>bodyparts</th>\n",
       "      <th colspan=\"3\" halign=\"left\">bp1</th>\n",
       "      <th colspan=\"3\" halign=\"left\">bp2</th>\n",
       "      <th colspan=\"3\" halign=\"left\">bp3</th>\n",
       "      <th>bp4</th>\n",
       "      <th>...</th>\n",
       "      <th>bp27</th>\n",
       "      <th colspan=\"3\" halign=\"left\">bp28</th>\n",
       "      <th colspan=\"3\" halign=\"left\">bp29</th>\n",
       "      <th colspan=\"3\" halign=\"left\">bp30</th>\n",
       "    </tr>\n",
       "    <tr>\n",
       "      <th>coords</th>\n",
       "      <th>x</th>\n",
       "      <th>y</th>\n",
       "      <th>likelihood</th>\n",
       "      <th>x</th>\n",
       "      <th>y</th>\n",
       "      <th>likelihood</th>\n",
       "      <th>x</th>\n",
       "      <th>y</th>\n",
       "      <th>likelihood</th>\n",
       "      <th>x</th>\n",
       "      <th>...</th>\n",
       "      <th>likelihood</th>\n",
       "      <th>x</th>\n",
       "      <th>y</th>\n",
       "      <th>likelihood</th>\n",
       "      <th>x</th>\n",
       "      <th>y</th>\n",
       "      <th>likelihood</th>\n",
       "      <th>x</th>\n",
       "      <th>y</th>\n",
       "      <th>likelihood</th>\n",
       "    </tr>\n",
       "  </thead>\n",
       "  <tbody>\n",
       "    <tr>\n",
       "      <th>0</th>\n",
       "      <td>227.114223</td>\n",
       "      <td>153.496667</td>\n",
       "      <td>1.0</td>\n",
       "      <td>214.637562</td>\n",
       "      <td>172.455581</td>\n",
       "      <td>1.0</td>\n",
       "      <td>202.897164</td>\n",
       "      <td>189.273714</td>\n",
       "      <td>1.0</td>\n",
       "      <td>185.583044</td>\n",
       "      <td>...</td>\n",
       "      <td>1.0</td>\n",
       "      <td>192.863941</td>\n",
       "      <td>268.224515</td>\n",
       "      <td>1.0</td>\n",
       "      <td>204.724334</td>\n",
       "      <td>227.754951</td>\n",
       "      <td>1.0</td>\n",
       "      <td>201.905091</td>\n",
       "      <td>201.790911</td>\n",
       "      <td>1.0</td>\n",
       "    </tr>\n",
       "    <tr>\n",
       "      <th>1</th>\n",
       "      <td>226.214183</td>\n",
       "      <td>155.454707</td>\n",
       "      <td>1.0</td>\n",
       "      <td>214.885741</td>\n",
       "      <td>172.535058</td>\n",
       "      <td>1.0</td>\n",
       "      <td>202.372832</td>\n",
       "      <td>189.288744</td>\n",
       "      <td>1.0</td>\n",
       "      <td>184.668286</td>\n",
       "      <td>...</td>\n",
       "      <td>1.0</td>\n",
       "      <td>188.354350</td>\n",
       "      <td>271.279526</td>\n",
       "      <td>1.0</td>\n",
       "      <td>202.334020</td>\n",
       "      <td>232.710001</td>\n",
       "      <td>1.0</td>\n",
       "      <td>201.910554</td>\n",
       "      <td>200.725387</td>\n",
       "      <td>1.0</td>\n",
       "    </tr>\n",
       "    <tr>\n",
       "      <th>2</th>\n",
       "      <td>229.811047</td>\n",
       "      <td>156.143107</td>\n",
       "      <td>1.0</td>\n",
       "      <td>217.096632</td>\n",
       "      <td>174.640415</td>\n",
       "      <td>1.0</td>\n",
       "      <td>204.606445</td>\n",
       "      <td>189.713255</td>\n",
       "      <td>1.0</td>\n",
       "      <td>184.898309</td>\n",
       "      <td>...</td>\n",
       "      <td>1.0</td>\n",
       "      <td>184.323333</td>\n",
       "      <td>277.637784</td>\n",
       "      <td>1.0</td>\n",
       "      <td>202.487026</td>\n",
       "      <td>237.103071</td>\n",
       "      <td>1.0</td>\n",
       "      <td>203.512241</td>\n",
       "      <td>201.363195</td>\n",
       "      <td>1.0</td>\n",
       "    </tr>\n",
       "    <tr>\n",
       "      <th>3</th>\n",
       "      <td>228.098612</td>\n",
       "      <td>154.885124</td>\n",
       "      <td>1.0</td>\n",
       "      <td>215.529714</td>\n",
       "      <td>173.820206</td>\n",
       "      <td>1.0</td>\n",
       "      <td>202.164857</td>\n",
       "      <td>191.740514</td>\n",
       "      <td>1.0</td>\n",
       "      <td>183.662334</td>\n",
       "      <td>...</td>\n",
       "      <td>1.0</td>\n",
       "      <td>180.949344</td>\n",
       "      <td>279.477144</td>\n",
       "      <td>1.0</td>\n",
       "      <td>198.863353</td>\n",
       "      <td>239.028147</td>\n",
       "      <td>1.0</td>\n",
       "      <td>202.115000</td>\n",
       "      <td>201.126490</td>\n",
       "      <td>1.0</td>\n",
       "    </tr>\n",
       "    <tr>\n",
       "      <th>4</th>\n",
       "      <td>228.095393</td>\n",
       "      <td>154.662463</td>\n",
       "      <td>1.0</td>\n",
       "      <td>216.542523</td>\n",
       "      <td>174.264540</td>\n",
       "      <td>1.0</td>\n",
       "      <td>202.942884</td>\n",
       "      <td>192.009919</td>\n",
       "      <td>1.0</td>\n",
       "      <td>184.723029</td>\n",
       "      <td>...</td>\n",
       "      <td>1.0</td>\n",
       "      <td>177.761529</td>\n",
       "      <td>283.760718</td>\n",
       "      <td>1.0</td>\n",
       "      <td>199.053725</td>\n",
       "      <td>241.140595</td>\n",
       "      <td>1.0</td>\n",
       "      <td>203.406485</td>\n",
       "      <td>201.664196</td>\n",
       "      <td>1.0</td>\n",
       "    </tr>\n",
       "    <tr>\n",
       "      <th>...</th>\n",
       "      <td>...</td>\n",
       "      <td>...</td>\n",
       "      <td>...</td>\n",
       "      <td>...</td>\n",
       "      <td>...</td>\n",
       "      <td>...</td>\n",
       "      <td>...</td>\n",
       "      <td>...</td>\n",
       "      <td>...</td>\n",
       "      <td>...</td>\n",
       "      <td>...</td>\n",
       "      <td>...</td>\n",
       "      <td>...</td>\n",
       "      <td>...</td>\n",
       "      <td>...</td>\n",
       "      <td>...</td>\n",
       "      <td>...</td>\n",
       "      <td>...</td>\n",
       "      <td>...</td>\n",
       "      <td>...</td>\n",
       "      <td>...</td>\n",
       "    </tr>\n",
       "    <tr>\n",
       "      <th>1236</th>\n",
       "      <td>150.788991</td>\n",
       "      <td>202.009900</td>\n",
       "      <td>1.0</td>\n",
       "      <td>173.722888</td>\n",
       "      <td>200.995611</td>\n",
       "      <td>1.0</td>\n",
       "      <td>193.383961</td>\n",
       "      <td>200.437077</td>\n",
       "      <td>1.0</td>\n",
       "      <td>230.028265</td>\n",
       "      <td>...</td>\n",
       "      <td>1.0</td>\n",
       "      <td>232.946985</td>\n",
       "      <td>161.023209</td>\n",
       "      <td>1.0</td>\n",
       "      <td>210.735098</td>\n",
       "      <td>181.632999</td>\n",
       "      <td>1.0</td>\n",
       "      <td>203.438864</td>\n",
       "      <td>193.720767</td>\n",
       "      <td>1.0</td>\n",
       "    </tr>\n",
       "    <tr>\n",
       "      <th>1237</th>\n",
       "      <td>147.185419</td>\n",
       "      <td>203.822593</td>\n",
       "      <td>1.0</td>\n",
       "      <td>171.467809</td>\n",
       "      <td>201.434803</td>\n",
       "      <td>1.0</td>\n",
       "      <td>191.530614</td>\n",
       "      <td>200.748272</td>\n",
       "      <td>1.0</td>\n",
       "      <td>228.252120</td>\n",
       "      <td>...</td>\n",
       "      <td>1.0</td>\n",
       "      <td>270.502436</td>\n",
       "      <td>161.943116</td>\n",
       "      <td>1.0</td>\n",
       "      <td>216.239620</td>\n",
       "      <td>173.791621</td>\n",
       "      <td>1.0</td>\n",
       "      <td>202.726704</td>\n",
       "      <td>195.086720</td>\n",
       "      <td>1.0</td>\n",
       "    </tr>\n",
       "    <tr>\n",
       "      <th>1238</th>\n",
       "      <td>146.885862</td>\n",
       "      <td>207.445702</td>\n",
       "      <td>1.0</td>\n",
       "      <td>170.710595</td>\n",
       "      <td>202.365370</td>\n",
       "      <td>1.0</td>\n",
       "      <td>190.838805</td>\n",
       "      <td>201.715966</td>\n",
       "      <td>1.0</td>\n",
       "      <td>226.147818</td>\n",
       "      <td>...</td>\n",
       "      <td>1.0</td>\n",
       "      <td>281.991228</td>\n",
       "      <td>156.303653</td>\n",
       "      <td>1.0</td>\n",
       "      <td>225.799105</td>\n",
       "      <td>173.051229</td>\n",
       "      <td>1.0</td>\n",
       "      <td>202.722725</td>\n",
       "      <td>193.460423</td>\n",
       "      <td>1.0</td>\n",
       "    </tr>\n",
       "    <tr>\n",
       "      <th>1239</th>\n",
       "      <td>148.588491</td>\n",
       "      <td>207.702835</td>\n",
       "      <td>1.0</td>\n",
       "      <td>171.299451</td>\n",
       "      <td>204.571570</td>\n",
       "      <td>1.0</td>\n",
       "      <td>192.364971</td>\n",
       "      <td>201.605666</td>\n",
       "      <td>1.0</td>\n",
       "      <td>230.225013</td>\n",
       "      <td>...</td>\n",
       "      <td>1.0</td>\n",
       "      <td>240.825091</td>\n",
       "      <td>152.477278</td>\n",
       "      <td>1.0</td>\n",
       "      <td>208.851974</td>\n",
       "      <td>179.790033</td>\n",
       "      <td>1.0</td>\n",
       "      <td>201.526312</td>\n",
       "      <td>193.210068</td>\n",
       "      <td>1.0</td>\n",
       "    </tr>\n",
       "    <tr>\n",
       "      <th>1240</th>\n",
       "      <td>149.156803</td>\n",
       "      <td>202.135347</td>\n",
       "      <td>1.0</td>\n",
       "      <td>173.769502</td>\n",
       "      <td>201.475144</td>\n",
       "      <td>1.0</td>\n",
       "      <td>194.288623</td>\n",
       "      <td>200.007893</td>\n",
       "      <td>1.0</td>\n",
       "      <td>229.303939</td>\n",
       "      <td>...</td>\n",
       "      <td>1.0</td>\n",
       "      <td>251.179775</td>\n",
       "      <td>154.513647</td>\n",
       "      <td>1.0</td>\n",
       "      <td>211.039466</td>\n",
       "      <td>178.368500</td>\n",
       "      <td>1.0</td>\n",
       "      <td>204.507414</td>\n",
       "      <td>192.958426</td>\n",
       "      <td>1.0</td>\n",
       "    </tr>\n",
       "  </tbody>\n",
       "</table>\n",
       "<p>1241 rows × 90 columns</p>\n",
       "</div>"
      ],
      "text/plain": [
       "scorer    DeepCut_resnet50_small_arenaJun18shuffle1_1030000              \\\n",
       "bodyparts                                               bp1               \n",
       "coords                                                    x           y   \n",
       "0                                                227.114223  153.496667   \n",
       "1                                                226.214183  155.454707   \n",
       "2                                                229.811047  156.143107   \n",
       "3                                                228.098612  154.885124   \n",
       "4                                                228.095393  154.662463   \n",
       "...                                                     ...         ...   \n",
       "1236                                             150.788991  202.009900   \n",
       "1237                                             147.185419  203.822593   \n",
       "1238                                             146.885862  207.445702   \n",
       "1239                                             148.588491  207.702835   \n",
       "1240                                             149.156803  202.135347   \n",
       "\n",
       "scorer                                                               \\\n",
       "bodyparts                    bp2                                bp3   \n",
       "coords    likelihood           x           y likelihood           x   \n",
       "0                1.0  214.637562  172.455581        1.0  202.897164   \n",
       "1                1.0  214.885741  172.535058        1.0  202.372832   \n",
       "2                1.0  217.096632  174.640415        1.0  204.606445   \n",
       "3                1.0  215.529714  173.820206        1.0  202.164857   \n",
       "4                1.0  216.542523  174.264540        1.0  202.942884   \n",
       "...              ...         ...         ...        ...         ...   \n",
       "1236             1.0  173.722888  200.995611        1.0  193.383961   \n",
       "1237             1.0  171.467809  201.434803        1.0  191.530614   \n",
       "1238             1.0  170.710595  202.365370        1.0  190.838805   \n",
       "1239             1.0  171.299451  204.571570        1.0  192.364971   \n",
       "1240             1.0  173.769502  201.475144        1.0  194.288623   \n",
       "\n",
       "scorer                                        ...                         \\\n",
       "bodyparts                                bp4  ...       bp27        bp28   \n",
       "coords              y likelihood           x  ... likelihood           x   \n",
       "0          189.273714        1.0  185.583044  ...        1.0  192.863941   \n",
       "1          189.288744        1.0  184.668286  ...        1.0  188.354350   \n",
       "2          189.713255        1.0  184.898309  ...        1.0  184.323333   \n",
       "3          191.740514        1.0  183.662334  ...        1.0  180.949344   \n",
       "4          192.009919        1.0  184.723029  ...        1.0  177.761529   \n",
       "...               ...        ...         ...  ...        ...         ...   \n",
       "1236       200.437077        1.0  230.028265  ...        1.0  232.946985   \n",
       "1237       200.748272        1.0  228.252120  ...        1.0  270.502436   \n",
       "1238       201.715966        1.0  226.147818  ...        1.0  281.991228   \n",
       "1239       201.605666        1.0  230.225013  ...        1.0  240.825091   \n",
       "1240       200.007893        1.0  229.303939  ...        1.0  251.179775   \n",
       "\n",
       "scorer                                                               \\\n",
       "bodyparts                               bp29                          \n",
       "coords              y likelihood           x           y likelihood   \n",
       "0          268.224515        1.0  204.724334  227.754951        1.0   \n",
       "1          271.279526        1.0  202.334020  232.710001        1.0   \n",
       "2          277.637784        1.0  202.487026  237.103071        1.0   \n",
       "3          279.477144        1.0  198.863353  239.028147        1.0   \n",
       "4          283.760718        1.0  199.053725  241.140595        1.0   \n",
       "...               ...        ...         ...         ...        ...   \n",
       "1236       161.023209        1.0  210.735098  181.632999        1.0   \n",
       "1237       161.943116        1.0  216.239620  173.791621        1.0   \n",
       "1238       156.303653        1.0  225.799105  173.051229        1.0   \n",
       "1239       152.477278        1.0  208.851974  179.790033        1.0   \n",
       "1240       154.513647        1.0  211.039466  178.368500        1.0   \n",
       "\n",
       "scorer                                        \n",
       "bodyparts        bp30                         \n",
       "coords              x           y likelihood  \n",
       "0          201.905091  201.790911        1.0  \n",
       "1          201.910554  200.725387        1.0  \n",
       "2          203.512241  201.363195        1.0  \n",
       "3          202.115000  201.126490        1.0  \n",
       "4          203.406485  201.664196        1.0  \n",
       "...               ...         ...        ...  \n",
       "1236       203.438864  193.720767        1.0  \n",
       "1237       202.726704  195.086720        1.0  \n",
       "1238       202.722725  193.460423        1.0  \n",
       "1239       201.526312  193.210068        1.0  \n",
       "1240       204.507414  192.958426        1.0  \n",
       "\n",
       "[1241 rows x 90 columns]"
      ]
     },
     "execution_count": 16,
     "metadata": {},
     "output_type": "execute_result"
    }
   ],
   "source": [
    "df"
   ]
  },
  {
   "cell_type": "markdown",
   "metadata": {},
   "source": [
    "<img src=\"img/Ant_Label.png\" width=\"300\"/>"
   ]
  },
  {
   "cell_type": "markdown",
   "metadata": {},
   "source": [
    "You will see nested columns as well as multiple rows. This is how DeepLabCut formats its output data. In this dataset, we have 30 bodypoint columns, and each column as 3 information (x coord,y coord, and likelihood). We are just going to use the x and y coordinates for right now. The rows corresponds to each frame of the video, and this should match with the video file we will analyze later. Let's format this into numpy so that is will be easier to analyze later on."
   ]
  },
  {
   "cell_type": "code",
   "execution_count": 24,
   "metadata": {},
   "outputs": [
    {
     "name": "stdout",
     "output_type": "stream",
     "text": [
      "(1241, 30)\n",
      "(1241, 30)\n",
      "(1241, 30, 2)\n"
     ]
    }
   ],
   "source": [
    "x_data = df.xs('x', level=\"coords\", axis=1).to_numpy()\n",
    "y_data = df.xs('y', level=\"coords\", axis=1).to_numpy()\n",
    "print(x_data.shape)\n",
    "print(y_data.shape)\n",
    "# stack the x and y data on top of each other\n",
    "data_i = np.concatenate((\n",
    "            np.expand_dims(x_data, axis=-1), \n",
    "            np.expand_dims(y_data, axis=-1)), axis=-1)\n",
    "print(data_i.shape)"
   ]
  },
  {
   "cell_type": "markdown",
   "metadata": {},
   "source": [
    "You are done extracting the DeepLabCut data now!!! Everything you do from here on out is up to you. However, before I set you free, let me first show you some visualization and handy tools."
   ]
  },
  {
   "cell_type": "markdown",
   "metadata": {},
   "source": [
    "## 1. Visualize\n"
   ]
  },
  {
   "cell_type": "code",
   "execution_count": 30,
   "metadata": {},
   "outputs": [
    {
     "data": {
      "image/png": "[encoded data removed]",
      "text/plain": [
       "<Figure size 432x288 with 1 Axes>"
      ]
     },
     "metadata": {
      "needs_background": "light"
     },
     "output_type": "display_data"
    }
   ],
   "source": [
    "frame = 100\n",
    "plt.scatter(data_i[frame,:,0], data_i[frame,:,1])\n",
    "plt.show()"
   ]
  },
  {
   "cell_type": "markdown",
   "metadata": {},
   "source": [
    "Can you see the ant? It may be hard to see through just body points, so let's overly lay them on top of an image. If you look back at your data, each data sample has a corresponding avi video. We will parse the video and plot the corresponding image for a given frame with the bodypoitns."
   ]
  },
  {
   "cell_type": "code",
   "execution_count": 34,
   "metadata": {},
   "outputs": [
    {
     "name": "stdout",
     "output_type": "stream",
     "text": [
      "(1241, 400, 400, 3)\n"
     ]
    }
   ],
   "source": [
    "import skvideo.io\n",
    "# videodata = skvideo.io.vread(\n",
    "    \n",
    "data_path = \"data/**\"\n",
    "video_path = f\"{data_path}/*.avi\"\n",
    "for path in glob(video_path):\n",
    "    videodata = skvideo.io.vread(path)\n",
    "    print(videodata.shape)\n",
    "    break"
   ]
  },
  {
   "cell_type": "code",
   "execution_count": 39,
   "metadata": {
    "scrolled": true
   },
   "outputs": [
    {
     "data": {
      "image/png": "[encoded data removed]",
      "text/plain": [
       "<Figure size 432x288 with 1 Axes>"
      ]
     },
     "metadata": {
      "needs_background": "light"
     },
     "output_type": "display_data"
    }
   ],
   "source": [
    "frame = 100\n",
    "plt.imshow(videodata[frame,:,:,:])\n",
    "plt.scatter(data_i[frame,:,0], data_i[frame,:,1], s=8, c='r', alpha=0.7)\n",
    "plt.show()"
   ]
  },
  {
   "cell_type": "markdown",
   "metadata": {},
   "source": [
    "Now can you see the ant? Pretty neat right?! Now that you know exactly what the data looks like and what you can do with it, let me teach you two import preprocessing steps you should do before you do any analysis."
   ]
  },
  {
   "cell_type": "markdown",
   "metadata": {},
   "source": [
    "## 1. Preprocess\n",
    "If you look at the body points again, you will notice that it is not centered at zero. If you want to just analyze the bodypoints relative to the stage then you can go ahead and use the data. However, most of the time, you will want to analyze the body points relative to the center of the ant. You may even want your ants to be rotationally corrected as well so that the ant is always facing vertically. Both of these preprocessing step depends on what sort of question you are trying to answer. I will go ahead and teach both concept so that you may look back on it later."
   ]
  },
  {
   "cell_type": "markdown",
   "metadata": {},
   "source": [
    "### 1.0 Translational Correction\n",
    "In our model, body point 2 is the center of the ant. Therefore, we can just subtract all the body points to body point 2 so that the entire data is translated to zero."
   ]
  },
  {
   "cell_type": "markdown",
   "metadata": {},
   "source": [
    "#### Method 1"
   ]
  },
  {
   "cell_type": "code",
   "execution_count": 44,
   "metadata": {},
   "outputs": [
    {
     "name": "stdout",
     "output_type": "stream",
     "text": [
      "(1241, 30, 2)\n"
     ]
    }
   ],
   "source": [
    "# using for loops\n",
    "trans_data = np.copy(data_i)\n",
    "for i in range(30):\n",
    "    trans_data[:,i,:] = data_i[:,i,:] - data_i[:,2,:]\n",
    "print(trans_data.shape)"
   ]
  },
  {
   "cell_type": "markdown",
   "metadata": {},
   "source": [
    "#### Method 2"
   ]
  },
  {
   "cell_type": "code",
   "execution_count": 45,
   "metadata": {},
   "outputs": [
    {
     "name": "stdout",
     "output_type": "stream",
     "text": [
      "(1241, 30, 2)\n"
     ]
    }
   ],
   "source": [
    "# using broadcasting\n",
    "trans_data = data_i - data_i[:,2,:][:,np.newaxis,:]\n",
    "print(trans_data.shape)"
   ]
  },
  {
   "cell_type": "code",
   "execution_count": 50,
   "metadata": {},
   "outputs": [
    {
     "data": {
      "image/png": "[encoded data removed]",
      "text/plain": [
       "<Figure size 432x288 with 1 Axes>"
      ]
     },
     "metadata": {
      "needs_background": "light"
     },
     "output_type": "display_data"
    }
   ],
   "source": [
    "frame = 100\n",
    "plt.scatter(data_i[frame,:,0], data_i[frame,:,1], s=12, c='b', alpha=0.7)\n",
    "plt.scatter(trans_data[frame,:,0], trans_data[frame,:,1], s=12, c='r', alpha=0.7)\n",
    "plt.show()"
   ]
  },
  {
   "cell_type": "markdown",
   "metadata": {},
   "source": [
    "### 1.1. Rotational Correction\n",
    "\n",
    "Rotational correction is a little more complicated and requires some understanding of linera algebra. How you rotate your data points, as you probably know by now, depends on your model. Here, we are going to use body point 1 and 2 to create an axis that we will rotate so that it is always vertical. Note that the body points you use for other models may vary. We will then use the rotation matrix so that all the body points are aligned vertically.\n",
    "\n",
    "First, watch this [video](https://www.youtube.com/watch?v=OYuoPTRVzxY) to understand how rotation matrix works.\n",
    "Once you have watched this video, you should have a farily good grasp of how you can rotate any points in 2D by a certain degree. Now, you may be wondering how many angles should you rotate by? Well, the angle you will rotate the entire body points by will the angle between the body axis and the vertical line for each frame. Note: the angle for each frame will most likely differ, unless the ant is never turning."
   ]
  },
  {
   "cell_type": "markdown",
   "metadata": {},
   "source": [
    "![Rotation Matrix](img/RotationMatrix.gif)\n",
    "![Rotation Matrix2](img/rotationmatrix2d.png)"
   ]
  },
  {
   "cell_type": "code",
   "execution_count": 83,
   "metadata": {
    "scrolled": true
   },
   "outputs": [
    {
     "name": "stdout",
     "output_type": "stream",
     "text": [
      "(2, 2)\n"
     ]
    },
    {
     "data": {
      "image/png": "[encoded data removed]",
      "text/plain": [
       "<Figure size 432x288 with 1 Axes>"
      ]
     },
     "metadata": {
      "needs_background": "light"
     },
     "output_type": "display_data"
    }
   ],
   "source": [
    "angle = np.pi/2\n",
    "point1 = np.array([[1,2], [-1.2, -1.5]])\n",
    "rotation_matrix = np.array([[np.cos(angle), -1*np.sin(angle)], [np.sin(angle), np.cos(angle)]])\n",
    "print(rotation_matrix.shape)\n",
    "point2 = np.matmul(rotation_matrix, point1.T)\n",
    "\n",
    "fig, ax = plt.subplots()\n",
    "ax.scatter(point1[:,0], point1[:,1], c='b')\n",
    "ax.scatter(point2[:,0], point2[:,1], c='r')\n",
    "# set axes range\n",
    "ax.set_xlim(-3, 3)\n",
    "ax.set_ylim(-3, 3)\n",
    "ax.set_aspect('equal')\n",
    "ax.axhline(y=0, color='k')\n",
    "ax.axvline(x=0, color='k')\n",
    "plt.show()"
   ]
  },
  {
   "cell_type": "markdown",
   "metadata": {},
   "source": [
    "Now you know how to rotate points, how do you calculate the angles that you need to rotate? Well, if we start out with the blue position and our axis is slanted, then we wanted to compute the angle theta between the ants axis and the vertical line.\n",
    "<img src=\"img/angle.png\" width=\"300\"/>"
   ]
  },
  {
   "cell_type": "code",
   "execution_count": 89,
   "metadata": {},
   "outputs": [],
   "source": [
    "# compute ant's axis for each frame\n",
    "axis = trans_data[:,1,:] - trans_data[:,2,:]\n",
    "# compute angle between ant's axis and vertical axis\n",
    "angles = np.sign(axis[:,0]) * np.pi/2 - np.arctan( axis[:,1]/axis[:,0] )\n"
   ]
  },
  {
   "cell_type": "code",
   "execution_count": 100,
   "metadata": {},
   "outputs": [
    {
     "data": {
      "image/png": "[encoded data removed]",
      "text/plain": [
       "<Figure size 1440x360 with 1 Axes>"
      ]
     },
     "metadata": {
      "needs_background": "light"
     },
     "output_type": "display_data"
    }
   ],
   "source": [
    "fig, ax = plt.subplots(figsize=(20,5))\n",
    "ax.plot(angles)\n",
    "plt.title(\"Body Axis Angle\")\n",
    "plt.ylabel(\"angle (rad)\")\n",
    "plt.xlabel(\"frames\")\n",
    "plt.show()"
   ]
  },
  {
   "cell_type": "markdown",
   "metadata": {},
   "source": [
    "Why do you think there are a few sharp vertical lines?\n",
    "\n",
    "Now that we have the angles and the rotation matrix, we can finally rotate some body points!"
   ]
  },
  {
   "cell_type": "code",
   "execution_count": 105,
   "metadata": {},
   "outputs": [
    {
     "name": "stdout",
     "output_type": "stream",
     "text": [
      "(2, 2)\n",
      "(30, 2)\n"
     ]
    }
   ],
   "source": [
    "frame = 100\n",
    "angle = angles[frame]\n",
    "rotation_matrix = np.array([[np.cos(angle), -1*np.sin(angle)], [np.sin(angle), np.cos(angle)]])\n",
    "print(rotation_matrix.shape)\n",
    "rot_data = np.matmul(rotation_matrix, trans_data[frame,:,:].T).T\n",
    "print(rot_data.shape)"
   ]
  },
  {
   "cell_type": "code",
   "execution_count": 123,
   "metadata": {},
   "outputs": [
    {
     "data": {
      "image/png": "[encoded data removed]",
      "text/plain": [
       "<Figure size 360x360 with 1 Axes>"
      ]
     },
     "metadata": {
      "needs_background": "light"
     },
     "output_type": "display_data"
    },
    {
     "data": {
      "image/png": "[encoded data removed]",
      "text/plain": [
       "<Figure size 360x360 with 1 Axes>"
      ]
     },
     "metadata": {
      "needs_background": "light"
     },
     "output_type": "display_data"
    }
   ],
   "source": [
    "fig, ax = plt.subplots(figsize=(5,5))\n",
    "ax.axhline(y=0, color='k', alpha=0.4)\n",
    "ax.axvline(x=0, color='k', alpha=0.4)\n",
    "ax.scatter(trans_data[frame,:,0],trans_data[frame,:,1], c='b', s=10, alpha=0.9)\n",
    "ax.set_xlim(-170, 170)\n",
    "ax.set_ylim(-170, 170)\n",
    "plt.show()\n",
    "\n",
    "fig, ax = plt.subplots(figsize=(5,5))\n",
    "ax.axhline(y=0, color='k', alpha=0.4)\n",
    "ax.axvline(x=0, color='k', alpha=0.4)\n",
    "ax.scatter(rot_data[:,0],rot_data[:,1], c='r', s=10, alpha=0.9)\n",
    "ax.set_xlim(-170, 170)\n",
    "ax.set_ylim(-170, 170)\n",
    "plt.show()"
   ]
  }
 ],
 "metadata": {
  "kernelspec": {
   "display_name": "Python 3",
   "language": "python",
   "name": "python3"
  },
  "language_info": {
   "codemirror_mode": {
    "name": "ipython",
    "version": 3
   },
   "file_extension": ".py",
   "mimetype": "text/x-python",
   "name": "python",
   "nbconvert_exporter": "python",
   "pygments_lexer": "ipython3",
   "version": "3.7.3"
  }
 },
 "nbformat": 4,
 "nbformat_minor": 4
}
