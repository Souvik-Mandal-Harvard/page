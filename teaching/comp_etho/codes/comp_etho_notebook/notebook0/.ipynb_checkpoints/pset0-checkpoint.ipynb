{
 "cells": [
  {
   "cell_type": "code",
   "execution_count": 1,
   "metadata": {},
   "outputs": [],
   "source": [
    "import numpy as np\n",
    "import matplotlib\n",
    "import matplotlib.pyplot as plt"
   ]
  },
  {
   "cell_type": "markdown",
   "metadata": {},
   "source": [
    "# Problem 1 - Distance Function\n",
    "\n",
    "Write some code for the ```distance``` function that computes the distance between two points\n",
    "\n",
    "Euclidean Distance Formula\n",
    "\n",
    "$\\sqrt{\\sum \\limits_{i=0}^{m} {x_i - y_i}^2}$\n",
    "\n",
    "Manhatten Distance Formula\n",
    "\n",
    "***WRITE FORMULA***\n",
    "\n",
    "Chebyshev Distance Formula\n",
    "\n",
    "***WRITE FORMULA***"
   ]
  },
  {
   "cell_type": "code",
   "execution_count": 11,
   "metadata": {},
   "outputs": [],
   "source": [
    "def distance(point1, point2, metric=\"euclidean\"):\n",
    "    \"\"\"\n",
    "    Computes the distance between arrays of point1 and point2. \n",
    "    Default to euclidean distance if user does not specify.\n",
    "    \n",
    "    n => number of points\n",
    "    dimesnion => dimensional space (it is 2 in this case since we have x and y)\n",
    "    \n",
    "    point1 - [n, dimension]\n",
    "    point2 - [n, dimension]\n",
    "    metric - {euclidean, manhatten, chebyshev}\n",
    "    \"\"\"\n",
    "    \n",
    "    dist = None\n",
    "    # CODE HERE: write distnace formulas\n",
    "    \n",
    "    return dist"
   ]
  },
  {
   "cell_type": "code",
   "execution_count": null,
   "metadata": {},
   "outputs": [],
   "source": [
    "p1 = np.random.rand(10,2)\n",
    "p2 = np.random.rand(10,2)\n",
    "# Test distance function\n",
    "euclidean_dist = distance(p1, p2, metric=\"euclidean\")\n",
    "print(euclidean_dist)\n",
    "\n",
    "# CODE HERE: test other distance"
   ]
  },
  {
   "cell_type": "markdown",
   "metadata": {},
   "source": [
    "# Problem 2 - Bacteria Exponential growth\n",
    " \n",
    "$ P = P_0 e^{rt} $\n",
    "\n",
    "$P_0 $ - initial population\n",
    "\n",
    "$r$ - percent rate of growth"
   ]
  },
  {
   "cell_type": "code",
   "execution_count": 2,
   "metadata": {},
   "outputs": [],
   "source": [
    "def exponential_growth(p0, r):\n",
    "    # CODE HERE\n",
    "    return pop, time\n",
    "\n",
    "def plot(t, pop):\n",
    "    plt.plot(t, pop)\n",
    "    plt.xlabel(\"Time (minutes)\")\n",
    "    plt.ylabel(\"Population Size\")\n",
    "    plt.title(\"Exponential Growth of Bacteria\")\n",
    "    plt.show()"
   ]
  },
  {
   "cell_type": "code",
   "execution_count": 23,
   "metadata": {},
   "outputs": [
    {
     "data": {
      "image/png": "[encoded data removed]",
      "text/plain": [
       "<Figure size 432x288 with 1 Axes>"
      ]
     },
     "metadata": {
      "needs_background": "light"
     },
     "output_type": "display_data"
    }
   ],
   "source": [
    "pop, t = exponential_growth(10, 1)\n",
    "plot(t, pop)"
   ]
  },
  {
   "cell_type": "markdown",
   "metadata": {},
   "source": [
    "What happens to the curve as P0 increase? What about when r increases?\n",
    "\n",
    "***ANSWER HERE***"
   ]
  },
  {
   "cell_type": "markdown",
   "metadata": {},
   "source": [
    "<hr>\n",
    "<strong>Created: </strong> June 29, 2020\n",
    "\n",
    "<strong>Author: </strong> Dong Hur\n",
    "<center><h1>Reference</h1></center>\n",
    "\n",
    "\n",
    "* \"A Student's Guide to Python for Physical Modeling\" - Jesse Kinder and Philip Nelson"
   ]
  }
 ],
 "metadata": {
  "kernelspec": {
   "display_name": "Python 3",
   "language": "python",
   "name": "python3"
  },
  "language_info": {
   "codemirror_mode": {
    "name": "ipython",
    "version": 3
   },
   "file_extension": ".py",
   "mimetype": "text/x-python",
   "name": "python",
   "nbconvert_exporter": "python",
   "pygments_lexer": "ipython3",
   "version": "3.7.3"
  }
 },
 "nbformat": 4,
 "nbformat_minor": 4
}
