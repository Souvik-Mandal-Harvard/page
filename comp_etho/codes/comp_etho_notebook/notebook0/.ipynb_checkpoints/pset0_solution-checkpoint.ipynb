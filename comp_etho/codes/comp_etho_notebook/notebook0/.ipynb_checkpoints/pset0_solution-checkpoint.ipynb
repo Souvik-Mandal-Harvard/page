{
 "cells": [
  {
   "cell_type": "code",
   "execution_count": 1,
   "metadata": {},
   "outputs": [],
   "source": [
    "import numpy as np\n",
    "import matplotlib\n",
    "import matplotlib.pyplot as plt"
   ]
  },
  {
   "cell_type": "markdown",
   "metadata": {},
   "source": [
    "# Problem 1 - Distance Function\n",
    "\n",
    "Write a function (```distance```) that computes the distance between two points\n",
    "\n",
    "Euclidean Distance Formula\n",
    "\n",
    "$\\sqrt{\\sum \\limits_{i=0}^{m} {x_i - y_i}^2}$\n",
    "\n",
    "Manhatten Distance Formula\n",
    "\n",
    "$ \\sum \\limits_{i=0}^{m} \\left\\lvert  x_i-y_i \\right\\rvert $\n",
    "\n",
    "Chebyshev Distance Formula\n",
    "\n",
    "$ \\max \\limits_{i=0}^{m} \\left\\lvert  x_i-y_i \\right\\rvert $"
   ]
  },
  {
   "cell_type": "code",
   "execution_count": 11,
   "metadata": {},
   "outputs": [],
   "source": [
    "def distance(point1, point2, metric=\"euclidean\"):\n",
    "    \"\"\"\n",
    "    Computes the distance between point1 and point2. Default to euclidean distance if user\n",
    "    does not specify\n",
    "    point1 - [number_points, dimension]\n",
    "    point2 - [number_points, dimension]\n",
    "    metric - {euclidean, manhatten, chebyshev}\n",
    "    \"\"\"\n",
    "    dist = None\n",
    "    if metric == \"manhatten\":\n",
    "        dist = np.sum(np.abs(point1-point2), axis=1)\n",
    "    elif metric == \"chebyshev\":\n",
    "        dist = np.max(np.abs(point1-point2), axis=1)\n",
    "    else:\n",
    "        dist = np.sqrt(np.sum((point1-point2)**2, axis=1))\n",
    "    return dist"
   ]
  },
  {
   "cell_type": "code",
   "execution_count": 12,
   "metadata": {},
   "outputs": [
    {
     "name": "stdout",
     "output_type": "stream",
     "text": [
      "[0.57964107 0.55829151 0.29983079 0.6941084  0.39767893 0.33896766\n",
      " 0.70835187 0.88334519 0.89893775 0.83439994]\n",
      "[0.81794984 0.74775641 0.42155906 0.96748233 0.41475282 0.44445725\n",
      " 0.84223855 1.12099736 1.26669913 1.13555059]\n",
      "[0.43601933 0.50060545 0.23361027 0.56673346 0.39729557 0.31202826\n",
      " 0.6923014  0.83616259 0.68732061 0.72822106]\n"
     ]
    }
   ],
   "source": [
    "p1 = np.random.rand(10,2)\n",
    "p2 = np.random.rand(10,2)\n",
    "# Test distance function\n",
    "euclidean_dist = distance(p1, p2, metric=\"euclidean\")\n",
    "print(euclidean_dist)\n",
    "manhatten_dist = distance(p1, p2, metric=\"manhatten\")\n",
    "print(manhatten_dist)\n",
    "chebyshev_dist = distance(p1, p2, metric=\"chebyshev\")\n",
    "print(chebyshev_dist)"
   ]
  },
  {
   "cell_type": "markdown",
   "metadata": {},
   "source": [
    "# Problem 2 - Bacteria Exponential growth\n",
    " \n",
    "$ P = P_0 e^{rt} $\n",
    "\n",
    "$P_0 $ - initial population\n",
    "\n",
    "$r$ - percent rate of growth"
   ]
  },
  {
   "cell_type": "code",
   "execution_count": 18,
   "metadata": {},
   "outputs": [],
   "source": [
    "def exponential_growth(p0, r):\n",
    "    time = np.linspace(0,10,50)\n",
    "    return p0*np.exp(r*time), time\n",
    "def plot(t, pop):\n",
    "    plt.plot(pop, t)\n",
    "    plt.xlabel(\"Time (minutes)\")\n",
    "    plt.show()"
   ]
  },
  {
   "cell_type": "code",
   "execution_count": 19,
   "metadata": {},
   "outputs": [
    {
     "data": {
      "image/png": "[encoded data removed]",
      "text/plain": [
       "<Figure size 432x288 with 1 Axes>"
      ]
     },
     "metadata": {
      "needs_background": "light"
     },
     "output_type": "display_data"
    }
   ],
   "source": [
    "pop, t = exponential_growth(10, 1)\n",
    "plot(t, pop)"
   ]
  },
  {
   "cell_type": "code",
   "execution_count": 16,
   "metadata": {},
   "outputs": [
    {
     "data": {
      "text/plain": [
       "array([ 0.        ,  0.20408163,  0.40816327,  0.6122449 ,  0.81632653,\n",
       "        1.02040816,  1.2244898 ,  1.42857143,  1.63265306,  1.83673469,\n",
       "        2.04081633,  2.24489796,  2.44897959,  2.65306122,  2.85714286,\n",
       "        3.06122449,  3.26530612,  3.46938776,  3.67346939,  3.87755102,\n",
       "        4.08163265,  4.28571429,  4.48979592,  4.69387755,  4.89795918,\n",
       "        5.10204082,  5.30612245,  5.51020408,  5.71428571,  5.91836735,\n",
       "        6.12244898,  6.32653061,  6.53061224,  6.73469388,  6.93877551,\n",
       "        7.14285714,  7.34693878,  7.55102041,  7.75510204,  7.95918367,\n",
       "        8.16326531,  8.36734694,  8.57142857,  8.7755102 ,  8.97959184,\n",
       "        9.18367347,  9.3877551 ,  9.59183673,  9.79591837, 10.        ])"
      ]
     },
     "execution_count": 16,
     "metadata": {},
     "output_type": "execute_result"
    }
   ],
   "source": [
    "time"
   ]
  },
  {
   "cell_type": "markdown",
   "metadata": {},
   "source": [
    "<hr>\n",
    "<strong>Created By:</strong> Dong Hur\n",
    "<center><h1>Reference</h1></center>\n",
    "\n",
    "\n",
    "* \"A Student's Guide to Python for Physical Modeling\" - Jesse Kinder and Philip Nelson"
   ]
  }
 ],
 "metadata": {
  "kernelspec": {
   "display_name": "Python 3",
   "language": "python",
   "name": "python3"
  },
  "language_info": {
   "codemirror_mode": {
    "name": "ipython",
    "version": 3
   },
   "file_extension": ".py",
   "mimetype": "text/x-python",
   "name": "python",
   "nbconvert_exporter": "python",
   "pygments_lexer": "ipython3",
   "version": "3.7.3"
  }
 },
 "nbformat": 4,
 "nbformat_minor": 4
}
