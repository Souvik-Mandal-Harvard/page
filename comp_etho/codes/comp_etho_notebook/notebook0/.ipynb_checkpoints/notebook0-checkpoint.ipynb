{
 "cells": [
  {
   "cell_type": "markdown",
   "metadata": {},
   "source": [
    "<center><h1><font color='red'> Notebook 0 |  Python Basics</font></h1></center>"
   ]
  },
  {
   "cell_type": "code",
   "execution_count": 2,
   "metadata": {},
   "outputs": [],
   "source": [
    "# run me!\n",
    "import numpy as np\n",
    "import matplotlib\n",
    "import matplotlib.pyplot as plt"
   ]
  },
  {
   "cell_type": "markdown",
   "metadata": {},
   "source": [
    "# Problem 1 - Distance Function\n",
    "\n",
    "Write some code for the function below, which should compute the distance between two points using the three formulas listed below.\n",
    "\n",
    "Euclidean Distance Formula\n",
    "\n",
    "$\\sqrt{\\sum \\limits_{i=0}^{m} {(x_i-x_j)}^2 + {(y_i-y_j)}^2}$\n",
    "\n",
    "Manhatten Distance Formula\n",
    "\n",
    "***Task 1: Write Manhatten Distance Formula Here***\n",
    "\n",
    "Chebyshev Distance Formula\n",
    "\n",
    "***Task 2: Write Chebyshev Distance Formula Here***"
   ]
  },
  {
   "cell_type": "code",
   "execution_count": 18,
   "metadata": {},
   "outputs": [],
   "source": [
    "def distance(p1_list, p2_list, metric=\"euclidean\"):\n",
    "    \"\"\"\n",
    "    Computes the distance between arrays of points from p1 and p2. \n",
    "    Default to euclidean distance if user does not specify.\n",
    "    \n",
    "    n         => number of points\n",
    "    dimesnion => dimensional space (it is 2 in this case since we only have x and y)\n",
    "    \n",
    "    p1_list - [n, dimension]\n",
    "    p2_list - [n, dimension]\n",
    "    metric - {euclidean, manhatten, chebyshev}\n",
    "    \"\"\"\n",
    "    if metric == \"euclidean\":\n",
    "        dist = p1_list - p2_list\n",
    "    if metric == \"manhatten\":\n",
    "        dist = asdf;kjakdlsfj\n",
    "    if metric == \"chebyshev\":\n",
    "        dist = asdf;klj;kadf\n",
    "    \n",
    "    \n",
    "#     print(p1_list)\n",
    "#     print(p2_list)\n",
    "#     dist = \n",
    "    # TASK 3: (CODE HERE) program distnace formulas + if and else statement for logic\n",
    "    return dist"
   ]
  },
  {
   "cell_type": "code",
   "execution_count": 19,
   "metadata": {},
   "outputs": [
    {
     "name": "stdout",
     "output_type": "stream",
     "text": [
      "[[0.09699133 0.68063778]\n",
      " [0.84731587 0.70306441]\n",
      " [0.47590701 0.34450108]\n",
      " [0.26413273 0.76163416]\n",
      " [0.25869389 0.91574545]\n",
      " [0.5378061  0.14586381]\n",
      " [0.30835931 0.51010795]\n",
      " [0.31933142 0.52486257]\n",
      " [0.75452848 0.73063616]\n",
      " [0.62078154 0.56346446]]\n",
      "[[0.85375471 0.32816876]\n",
      " [0.34457245 0.16600456]\n",
      " [0.18955507 0.03840341]\n",
      " [0.91949883 0.48783106]\n",
      " [0.04523144 0.99386683]\n",
      " [0.77577043 0.92712811]\n",
      " [0.44912706 0.28955569]\n",
      " [0.2053156  0.19630203]\n",
      " [0.61837072 0.0096118 ]\n",
      " [0.19409315 0.02108973]]\n",
      "[[-0.75676338  0.35246902]\n",
      " [ 0.50274342  0.53705985]\n",
      " [ 0.28635194  0.30609767]\n",
      " [-0.6553661   0.27380311]\n",
      " [ 0.21346246 -0.07812138]\n",
      " [-0.23796433 -0.7812643 ]\n",
      " [-0.14076775  0.22055226]\n",
      " [ 0.11401582  0.32856054]\n",
      " [ 0.13615777  0.72102437]\n",
      " [ 0.42668839  0.54237473]]\n"
     ]
    }
   ],
   "source": [
    "p1 = np.random.rand(10,2)\n",
    "p2 = np.random.rand(10,2)\n",
    "\n",
    "# Test distance function\n",
    "euclidean_dist = distance(p1, p2, metric=\"euclidean\")\n",
    "print(euclidean_dist)\n",
    "# manhatten_dist = distance(p1, p2, metric=\"manhatten\")\n",
    "# print(euclidean_dist)\n",
    "\n",
    "# TASK 4: (CODE HERE) similar to line 5 and 6, test the other distance metrics"
   ]
  },
  {
   "cell_type": "markdown",
   "metadata": {},
   "source": [
    "# Problem 2 - Bacterial Growth\n",
    " \n",
    "$ P = P_0 e^{rt} $\n",
    "\n",
    "$P_0 $ - initial population\n",
    "\n",
    "$r$ - percent rate of growth"
   ]
  },
  {
   "cell_type": "code",
   "execution_count": 1,
   "metadata": {},
   "outputs": [],
   "source": [
    "def exponential_growth(p0, r):\n",
    "    # TASK 1: (CODE HERE) program the exponential growth function shown above\n",
    "    return pop, time\n",
    "\n",
    "def plot(t, pop):\n",
    "    plt.plot(t, pop)\n",
    "    plt.xlabel(\"Time (minutes)\")\n",
    "    plt.ylabel(\"Population Size\")\n",
    "    plt.title(\"Exponential Growth of Bacteria\")\n",
    "    plt.show()"
   ]
  },
  {
   "cell_type": "code",
   "execution_count": null,
   "metadata": {},
   "outputs": [],
   "source": [
    "pop, t = exponential_growth(10, 1)\n",
    "plot(t, pop)"
   ]
  },
  {
   "cell_type": "markdown",
   "metadata": {},
   "source": [
    "What happens to the curve as P0 increase? What about when r increases?\n",
    "\n",
    "***Task 2: Your answer here***"
   ]
  },
  {
   "cell_type": "markdown",
   "metadata": {},
   "source": [
    "<hr>\n",
    "<strong>Created: </strong> July 30, 2020\n",
    "\n",
    "<strong>Updated: </strong> September 2, 2020\n",
    "\n",
    "<strong>Author: </strong> Dong Hur\n",
    "<center><h1>Reference</h1></center>\n",
    "\n",
    "\n",
    "* \"A Student's Guide to Python for Physical Modeling\" - Jesse Kinder and Philip Nelson"
   ]
  }
 ],
 "metadata": {
  "kernelspec": {
   "display_name": "Python 3",
   "language": "python",
   "name": "python3"
  },
  "language_info": {
   "codemirror_mode": {
    "name": "ipython",
    "version": 3
   },
   "file_extension": ".py",
   "mimetype": "text/x-python",
   "name": "python",
   "nbconvert_exporter": "python",
   "pygments_lexer": "ipython3",
   "version": "3.7.3"
  }
 },
 "nbformat": 4,
 "nbformat_minor": 4
}
